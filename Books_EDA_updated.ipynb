{
 "cells": [
  {
   "cell_type": "code",
   "execution_count": 1,
   "id": "cde61663",
   "metadata": {},
   "outputs": [],
   "source": [
    "# importing necessary libraries\n",
    "import numpy as np\n",
    "import pandas as pd\n",
    "import seaborn as sns\n",
    "import matplotlib.pyplot as plt\n",
    "%matplotlib inline "
   ]
  },
  {
   "cell_type": "code",
   "execution_count": 2,
   "id": "d521f537",
   "metadata": {},
   "outputs": [
    {
     "name": "stderr",
     "output_type": "stream",
     "text": [
      "C:\\Users\\Hxze.-\\AppData\\Local\\Temp\\ipykernel_12564\\3890452286.py:4: DtypeWarning: Columns (3) have mixed types. Specify dtype option on import or set low_memory=False.\n",
      "  df3 = pd.read_csv('Books.csv')\n"
     ]
    }
   ],
   "source": [
    "# importing datasets\n",
    "df1 = pd.read_csv('Users.csv')\n",
    "df2 = pd.read_csv('Ratings.csv')\n",
    "df3 = pd.read_csv('Books.csv')"
   ]
  },
  {
   "cell_type": "code",
   "execution_count": 3,
   "id": "01482384",
   "metadata": {},
   "outputs": [
    {
     "data": {
      "text/html": [
       "<div>\n",
       "<style scoped>\n",
       "    .dataframe tbody tr th:only-of-type {\n",
       "        vertical-align: middle;\n",
       "    }\n",
       "\n",
       "    .dataframe tbody tr th {\n",
       "        vertical-align: top;\n",
       "    }\n",
       "\n",
       "    .dataframe thead th {\n",
       "        text-align: right;\n",
       "    }\n",
       "</style>\n",
       "<table border=\"1\" class=\"dataframe\">\n",
       "  <thead>\n",
       "    <tr style=\"text-align: right;\">\n",
       "      <th></th>\n",
       "      <th>User-ID</th>\n",
       "      <th>Location</th>\n",
       "      <th>Age</th>\n",
       "    </tr>\n",
       "  </thead>\n",
       "  <tbody>\n",
       "    <tr>\n",
       "      <th>0</th>\n",
       "      <td>1</td>\n",
       "      <td>nyc, new york, usa</td>\n",
       "      <td>NaN</td>\n",
       "    </tr>\n",
       "    <tr>\n",
       "      <th>1</th>\n",
       "      <td>2</td>\n",
       "      <td>stockton, california, usa</td>\n",
       "      <td>18.0</td>\n",
       "    </tr>\n",
       "    <tr>\n",
       "      <th>2</th>\n",
       "      <td>3</td>\n",
       "      <td>moscow, yukon territory, russia</td>\n",
       "      <td>NaN</td>\n",
       "    </tr>\n",
       "    <tr>\n",
       "      <th>3</th>\n",
       "      <td>4</td>\n",
       "      <td>porto, v.n.gaia, portugal</td>\n",
       "      <td>17.0</td>\n",
       "    </tr>\n",
       "    <tr>\n",
       "      <th>4</th>\n",
       "      <td>5</td>\n",
       "      <td>farnborough, hants, united kingdom</td>\n",
       "      <td>NaN</td>\n",
       "    </tr>\n",
       "  </tbody>\n",
       "</table>\n",
       "</div>"
      ],
      "text/plain": [
       "   User-ID                            Location   Age\n",
       "0        1                  nyc, new york, usa   NaN\n",
       "1        2           stockton, california, usa  18.0\n",
       "2        3     moscow, yukon territory, russia   NaN\n",
       "3        4           porto, v.n.gaia, portugal  17.0\n",
       "4        5  farnborough, hants, united kingdom   NaN"
      ]
     },
     "execution_count": 3,
     "metadata": {},
     "output_type": "execute_result"
    }
   ],
   "source": [
    "df1.head()"
   ]
  },
  {
   "cell_type": "code",
   "execution_count": 4,
   "id": "72243f28",
   "metadata": {},
   "outputs": [
    {
     "data": {
      "text/html": [
       "<div>\n",
       "<style scoped>\n",
       "    .dataframe tbody tr th:only-of-type {\n",
       "        vertical-align: middle;\n",
       "    }\n",
       "\n",
       "    .dataframe tbody tr th {\n",
       "        vertical-align: top;\n",
       "    }\n",
       "\n",
       "    .dataframe thead th {\n",
       "        text-align: right;\n",
       "    }\n",
       "</style>\n",
       "<table border=\"1\" class=\"dataframe\">\n",
       "  <thead>\n",
       "    <tr style=\"text-align: right;\">\n",
       "      <th></th>\n",
       "      <th>User-ID</th>\n",
       "      <th>ISBN</th>\n",
       "      <th>Book-Rating</th>\n",
       "    </tr>\n",
       "  </thead>\n",
       "  <tbody>\n",
       "    <tr>\n",
       "      <th>0</th>\n",
       "      <td>276725</td>\n",
       "      <td>034545104X</td>\n",
       "      <td>0</td>\n",
       "    </tr>\n",
       "    <tr>\n",
       "      <th>1</th>\n",
       "      <td>276726</td>\n",
       "      <td>0155061224</td>\n",
       "      <td>5</td>\n",
       "    </tr>\n",
       "    <tr>\n",
       "      <th>2</th>\n",
       "      <td>276727</td>\n",
       "      <td>0446520802</td>\n",
       "      <td>0</td>\n",
       "    </tr>\n",
       "    <tr>\n",
       "      <th>3</th>\n",
       "      <td>276729</td>\n",
       "      <td>052165615X</td>\n",
       "      <td>3</td>\n",
       "    </tr>\n",
       "    <tr>\n",
       "      <th>4</th>\n",
       "      <td>276729</td>\n",
       "      <td>0521795028</td>\n",
       "      <td>6</td>\n",
       "    </tr>\n",
       "  </tbody>\n",
       "</table>\n",
       "</div>"
      ],
      "text/plain": [
       "   User-ID        ISBN  Book-Rating\n",
       "0   276725  034545104X            0\n",
       "1   276726  0155061224            5\n",
       "2   276727  0446520802            0\n",
       "3   276729  052165615X            3\n",
       "4   276729  0521795028            6"
      ]
     },
     "execution_count": 4,
     "metadata": {},
     "output_type": "execute_result"
    }
   ],
   "source": [
    "df2.head()"
   ]
  },
  {
   "cell_type": "code",
   "execution_count": 5,
   "id": "98899cfb",
   "metadata": {},
   "outputs": [
    {
     "data": {
      "text/html": [
       "<div>\n",
       "<style scoped>\n",
       "    .dataframe tbody tr th:only-of-type {\n",
       "        vertical-align: middle;\n",
       "    }\n",
       "\n",
       "    .dataframe tbody tr th {\n",
       "        vertical-align: top;\n",
       "    }\n",
       "\n",
       "    .dataframe thead th {\n",
       "        text-align: right;\n",
       "    }\n",
       "</style>\n",
       "<table border=\"1\" class=\"dataframe\">\n",
       "  <thead>\n",
       "    <tr style=\"text-align: right;\">\n",
       "      <th></th>\n",
       "      <th>ISBN</th>\n",
       "      <th>Book-Title</th>\n",
       "      <th>Book-Author</th>\n",
       "      <th>Year-Of-Publication</th>\n",
       "      <th>Publisher</th>\n",
       "      <th>Image-URL-S</th>\n",
       "      <th>Image-URL-M</th>\n",
       "      <th>Image-URL-L</th>\n",
       "    </tr>\n",
       "  </thead>\n",
       "  <tbody>\n",
       "    <tr>\n",
       "      <th>0</th>\n",
       "      <td>0195153448</td>\n",
       "      <td>Classical Mythology</td>\n",
       "      <td>Mark P. O. Morford</td>\n",
       "      <td>2002</td>\n",
       "      <td>Oxford University Press</td>\n",
       "      <td>http://images.amazon.com/images/P/0195153448.0...</td>\n",
       "      <td>http://images.amazon.com/images/P/0195153448.0...</td>\n",
       "      <td>http://images.amazon.com/images/P/0195153448.0...</td>\n",
       "    </tr>\n",
       "    <tr>\n",
       "      <th>1</th>\n",
       "      <td>0002005018</td>\n",
       "      <td>Clara Callan</td>\n",
       "      <td>Richard Bruce Wright</td>\n",
       "      <td>2001</td>\n",
       "      <td>HarperFlamingo Canada</td>\n",
       "      <td>http://images.amazon.com/images/P/0002005018.0...</td>\n",
       "      <td>http://images.amazon.com/images/P/0002005018.0...</td>\n",
       "      <td>http://images.amazon.com/images/P/0002005018.0...</td>\n",
       "    </tr>\n",
       "    <tr>\n",
       "      <th>2</th>\n",
       "      <td>0060973129</td>\n",
       "      <td>Decision in Normandy</td>\n",
       "      <td>Carlo D'Este</td>\n",
       "      <td>1991</td>\n",
       "      <td>HarperPerennial</td>\n",
       "      <td>http://images.amazon.com/images/P/0060973129.0...</td>\n",
       "      <td>http://images.amazon.com/images/P/0060973129.0...</td>\n",
       "      <td>http://images.amazon.com/images/P/0060973129.0...</td>\n",
       "    </tr>\n",
       "    <tr>\n",
       "      <th>3</th>\n",
       "      <td>0374157065</td>\n",
       "      <td>Flu: The Story of the Great Influenza Pandemic...</td>\n",
       "      <td>Gina Bari Kolata</td>\n",
       "      <td>1999</td>\n",
       "      <td>Farrar Straus Giroux</td>\n",
       "      <td>http://images.amazon.com/images/P/0374157065.0...</td>\n",
       "      <td>http://images.amazon.com/images/P/0374157065.0...</td>\n",
       "      <td>http://images.amazon.com/images/P/0374157065.0...</td>\n",
       "    </tr>\n",
       "    <tr>\n",
       "      <th>4</th>\n",
       "      <td>0393045218</td>\n",
       "      <td>The Mummies of Urumchi</td>\n",
       "      <td>E. J. W. Barber</td>\n",
       "      <td>1999</td>\n",
       "      <td>W. W. Norton &amp;amp; Company</td>\n",
       "      <td>http://images.amazon.com/images/P/0393045218.0...</td>\n",
       "      <td>http://images.amazon.com/images/P/0393045218.0...</td>\n",
       "      <td>http://images.amazon.com/images/P/0393045218.0...</td>\n",
       "    </tr>\n",
       "  </tbody>\n",
       "</table>\n",
       "</div>"
      ],
      "text/plain": [
       "         ISBN                                         Book-Title  \\\n",
       "0  0195153448                                Classical Mythology   \n",
       "1  0002005018                                       Clara Callan   \n",
       "2  0060973129                               Decision in Normandy   \n",
       "3  0374157065  Flu: The Story of the Great Influenza Pandemic...   \n",
       "4  0393045218                             The Mummies of Urumchi   \n",
       "\n",
       "            Book-Author Year-Of-Publication                   Publisher  \\\n",
       "0    Mark P. O. Morford                2002     Oxford University Press   \n",
       "1  Richard Bruce Wright                2001       HarperFlamingo Canada   \n",
       "2          Carlo D'Este                1991             HarperPerennial   \n",
       "3      Gina Bari Kolata                1999        Farrar Straus Giroux   \n",
       "4       E. J. W. Barber                1999  W. W. Norton &amp; Company   \n",
       "\n",
       "                                         Image-URL-S  \\\n",
       "0  http://images.amazon.com/images/P/0195153448.0...   \n",
       "1  http://images.amazon.com/images/P/0002005018.0...   \n",
       "2  http://images.amazon.com/images/P/0060973129.0...   \n",
       "3  http://images.amazon.com/images/P/0374157065.0...   \n",
       "4  http://images.amazon.com/images/P/0393045218.0...   \n",
       "\n",
       "                                         Image-URL-M  \\\n",
       "0  http://images.amazon.com/images/P/0195153448.0...   \n",
       "1  http://images.amazon.com/images/P/0002005018.0...   \n",
       "2  http://images.amazon.com/images/P/0060973129.0...   \n",
       "3  http://images.amazon.com/images/P/0374157065.0...   \n",
       "4  http://images.amazon.com/images/P/0393045218.0...   \n",
       "\n",
       "                                         Image-URL-L  \n",
       "0  http://images.amazon.com/images/P/0195153448.0...  \n",
       "1  http://images.amazon.com/images/P/0002005018.0...  \n",
       "2  http://images.amazon.com/images/P/0060973129.0...  \n",
       "3  http://images.amazon.com/images/P/0374157065.0...  \n",
       "4  http://images.amazon.com/images/P/0393045218.0...  "
      ]
     },
     "execution_count": 5,
     "metadata": {},
     "output_type": "execute_result"
    }
   ],
   "source": [
    "df3.head()"
   ]
  },
  {
   "cell_type": "code",
   "execution_count": 6,
   "id": "e6285b58",
   "metadata": {},
   "outputs": [],
   "source": [
    "# Join df1 and df2 on 'User-Id' column\n",
    "merged_df = pd.merge(df1, df2, on='User-ID')"
   ]
  },
  {
   "cell_type": "code",
   "execution_count": 7,
   "id": "2cd1e9b2",
   "metadata": {},
   "outputs": [
    {
     "data": {
      "text/html": [
       "<div>\n",
       "<style scoped>\n",
       "    .dataframe tbody tr th:only-of-type {\n",
       "        vertical-align: middle;\n",
       "    }\n",
       "\n",
       "    .dataframe tbody tr th {\n",
       "        vertical-align: top;\n",
       "    }\n",
       "\n",
       "    .dataframe thead th {\n",
       "        text-align: right;\n",
       "    }\n",
       "</style>\n",
       "<table border=\"1\" class=\"dataframe\">\n",
       "  <thead>\n",
       "    <tr style=\"text-align: right;\">\n",
       "      <th></th>\n",
       "      <th>User-ID</th>\n",
       "      <th>Location</th>\n",
       "      <th>Age</th>\n",
       "      <th>ISBN</th>\n",
       "      <th>Book-Rating</th>\n",
       "    </tr>\n",
       "  </thead>\n",
       "  <tbody>\n",
       "    <tr>\n",
       "      <th>0</th>\n",
       "      <td>2</td>\n",
       "      <td>stockton, california, usa</td>\n",
       "      <td>18.0</td>\n",
       "      <td>0195153448</td>\n",
       "      <td>0</td>\n",
       "    </tr>\n",
       "    <tr>\n",
       "      <th>1</th>\n",
       "      <td>7</td>\n",
       "      <td>washington, dc, usa</td>\n",
       "      <td>NaN</td>\n",
       "      <td>034542252</td>\n",
       "      <td>0</td>\n",
       "    </tr>\n",
       "    <tr>\n",
       "      <th>2</th>\n",
       "      <td>8</td>\n",
       "      <td>timmins, ontario, canada</td>\n",
       "      <td>NaN</td>\n",
       "      <td>0002005018</td>\n",
       "      <td>5</td>\n",
       "    </tr>\n",
       "    <tr>\n",
       "      <th>3</th>\n",
       "      <td>8</td>\n",
       "      <td>timmins, ontario, canada</td>\n",
       "      <td>NaN</td>\n",
       "      <td>0060973129</td>\n",
       "      <td>0</td>\n",
       "    </tr>\n",
       "    <tr>\n",
       "      <th>4</th>\n",
       "      <td>8</td>\n",
       "      <td>timmins, ontario, canada</td>\n",
       "      <td>NaN</td>\n",
       "      <td>0374157065</td>\n",
       "      <td>0</td>\n",
       "    </tr>\n",
       "    <tr>\n",
       "      <th>...</th>\n",
       "      <td>...</td>\n",
       "      <td>...</td>\n",
       "      <td>...</td>\n",
       "      <td>...</td>\n",
       "      <td>...</td>\n",
       "    </tr>\n",
       "    <tr>\n",
       "      <th>1149775</th>\n",
       "      <td>278854</td>\n",
       "      <td>portland, oregon, usa</td>\n",
       "      <td>NaN</td>\n",
       "      <td>0425163393</td>\n",
       "      <td>7</td>\n",
       "    </tr>\n",
       "    <tr>\n",
       "      <th>1149776</th>\n",
       "      <td>278854</td>\n",
       "      <td>portland, oregon, usa</td>\n",
       "      <td>NaN</td>\n",
       "      <td>0515087122</td>\n",
       "      <td>0</td>\n",
       "    </tr>\n",
       "    <tr>\n",
       "      <th>1149777</th>\n",
       "      <td>278854</td>\n",
       "      <td>portland, oregon, usa</td>\n",
       "      <td>NaN</td>\n",
       "      <td>0553275739</td>\n",
       "      <td>6</td>\n",
       "    </tr>\n",
       "    <tr>\n",
       "      <th>1149778</th>\n",
       "      <td>278854</td>\n",
       "      <td>portland, oregon, usa</td>\n",
       "      <td>NaN</td>\n",
       "      <td>0553578596</td>\n",
       "      <td>0</td>\n",
       "    </tr>\n",
       "    <tr>\n",
       "      <th>1149779</th>\n",
       "      <td>278854</td>\n",
       "      <td>portland, oregon, usa</td>\n",
       "      <td>NaN</td>\n",
       "      <td>0553579606</td>\n",
       "      <td>8</td>\n",
       "    </tr>\n",
       "  </tbody>\n",
       "</table>\n",
       "<p>1149780 rows × 5 columns</p>\n",
       "</div>"
      ],
      "text/plain": [
       "         User-ID                   Location   Age        ISBN  Book-Rating\n",
       "0              2  stockton, california, usa  18.0  0195153448            0\n",
       "1              7        washington, dc, usa   NaN   034542252            0\n",
       "2              8   timmins, ontario, canada   NaN  0002005018            5\n",
       "3              8   timmins, ontario, canada   NaN  0060973129            0\n",
       "4              8   timmins, ontario, canada   NaN  0374157065            0\n",
       "...          ...                        ...   ...         ...          ...\n",
       "1149775   278854      portland, oregon, usa   NaN  0425163393            7\n",
       "1149776   278854      portland, oregon, usa   NaN  0515087122            0\n",
       "1149777   278854      portland, oregon, usa   NaN  0553275739            6\n",
       "1149778   278854      portland, oregon, usa   NaN  0553578596            0\n",
       "1149779   278854      portland, oregon, usa   NaN  0553579606            8\n",
       "\n",
       "[1149780 rows x 5 columns]"
      ]
     },
     "execution_count": 7,
     "metadata": {},
     "output_type": "execute_result"
    }
   ],
   "source": [
    "merged_df"
   ]
  },
  {
   "cell_type": "code",
   "execution_count": 8,
   "id": "f78bfcd3",
   "metadata": {},
   "outputs": [],
   "source": [
    "# Join the result of above with df3 on 'ISBN' column\n",
    "merged_df = pd.merge(merged_df, df3, on='ISBN')"
   ]
  },
  {
   "cell_type": "code",
   "execution_count": 9,
   "id": "d5428dca",
   "metadata": {
    "scrolled": false
   },
   "outputs": [
    {
     "data": {
      "text/html": [
       "<div>\n",
       "<style scoped>\n",
       "    .dataframe tbody tr th:only-of-type {\n",
       "        vertical-align: middle;\n",
       "    }\n",
       "\n",
       "    .dataframe tbody tr th {\n",
       "        vertical-align: top;\n",
       "    }\n",
       "\n",
       "    .dataframe thead th {\n",
       "        text-align: right;\n",
       "    }\n",
       "</style>\n",
       "<table border=\"1\" class=\"dataframe\">\n",
       "  <thead>\n",
       "    <tr style=\"text-align: right;\">\n",
       "      <th></th>\n",
       "      <th>User-ID</th>\n",
       "      <th>Location</th>\n",
       "      <th>Age</th>\n",
       "      <th>ISBN</th>\n",
       "      <th>Book-Rating</th>\n",
       "      <th>Book-Title</th>\n",
       "      <th>Book-Author</th>\n",
       "      <th>Year-Of-Publication</th>\n",
       "      <th>Publisher</th>\n",
       "      <th>Image-URL-S</th>\n",
       "      <th>Image-URL-M</th>\n",
       "      <th>Image-URL-L</th>\n",
       "    </tr>\n",
       "  </thead>\n",
       "  <tbody>\n",
       "    <tr>\n",
       "      <th>0</th>\n",
       "      <td>2</td>\n",
       "      <td>stockton, california, usa</td>\n",
       "      <td>18.0</td>\n",
       "      <td>0195153448</td>\n",
       "      <td>0</td>\n",
       "      <td>Classical Mythology</td>\n",
       "      <td>Mark P. O. Morford</td>\n",
       "      <td>2002</td>\n",
       "      <td>Oxford University Press</td>\n",
       "      <td>http://images.amazon.com/images/P/0195153448.0...</td>\n",
       "      <td>http://images.amazon.com/images/P/0195153448.0...</td>\n",
       "      <td>http://images.amazon.com/images/P/0195153448.0...</td>\n",
       "    </tr>\n",
       "    <tr>\n",
       "      <th>1</th>\n",
       "      <td>8</td>\n",
       "      <td>timmins, ontario, canada</td>\n",
       "      <td>NaN</td>\n",
       "      <td>0002005018</td>\n",
       "      <td>5</td>\n",
       "      <td>Clara Callan</td>\n",
       "      <td>Richard Bruce Wright</td>\n",
       "      <td>2001</td>\n",
       "      <td>HarperFlamingo Canada</td>\n",
       "      <td>http://images.amazon.com/images/P/0002005018.0...</td>\n",
       "      <td>http://images.amazon.com/images/P/0002005018.0...</td>\n",
       "      <td>http://images.amazon.com/images/P/0002005018.0...</td>\n",
       "    </tr>\n",
       "    <tr>\n",
       "      <th>2</th>\n",
       "      <td>11400</td>\n",
       "      <td>ottawa, ontario, canada</td>\n",
       "      <td>49.0</td>\n",
       "      <td>0002005018</td>\n",
       "      <td>0</td>\n",
       "      <td>Clara Callan</td>\n",
       "      <td>Richard Bruce Wright</td>\n",
       "      <td>2001</td>\n",
       "      <td>HarperFlamingo Canada</td>\n",
       "      <td>http://images.amazon.com/images/P/0002005018.0...</td>\n",
       "      <td>http://images.amazon.com/images/P/0002005018.0...</td>\n",
       "      <td>http://images.amazon.com/images/P/0002005018.0...</td>\n",
       "    </tr>\n",
       "    <tr>\n",
       "      <th>3</th>\n",
       "      <td>11676</td>\n",
       "      <td>n/a, n/a, n/a</td>\n",
       "      <td>NaN</td>\n",
       "      <td>0002005018</td>\n",
       "      <td>8</td>\n",
       "      <td>Clara Callan</td>\n",
       "      <td>Richard Bruce Wright</td>\n",
       "      <td>2001</td>\n",
       "      <td>HarperFlamingo Canada</td>\n",
       "      <td>http://images.amazon.com/images/P/0002005018.0...</td>\n",
       "      <td>http://images.amazon.com/images/P/0002005018.0...</td>\n",
       "      <td>http://images.amazon.com/images/P/0002005018.0...</td>\n",
       "    </tr>\n",
       "    <tr>\n",
       "      <th>4</th>\n",
       "      <td>41385</td>\n",
       "      <td>sudbury, ontario, canada</td>\n",
       "      <td>NaN</td>\n",
       "      <td>0002005018</td>\n",
       "      <td>0</td>\n",
       "      <td>Clara Callan</td>\n",
       "      <td>Richard Bruce Wright</td>\n",
       "      <td>2001</td>\n",
       "      <td>HarperFlamingo Canada</td>\n",
       "      <td>http://images.amazon.com/images/P/0002005018.0...</td>\n",
       "      <td>http://images.amazon.com/images/P/0002005018.0...</td>\n",
       "      <td>http://images.amazon.com/images/P/0002005018.0...</td>\n",
       "    </tr>\n",
       "  </tbody>\n",
       "</table>\n",
       "</div>"
      ],
      "text/plain": [
       "   User-ID                   Location   Age        ISBN  Book-Rating  \\\n",
       "0        2  stockton, california, usa  18.0  0195153448            0   \n",
       "1        8   timmins, ontario, canada   NaN  0002005018            5   \n",
       "2    11400    ottawa, ontario, canada  49.0  0002005018            0   \n",
       "3    11676              n/a, n/a, n/a   NaN  0002005018            8   \n",
       "4    41385   sudbury, ontario, canada   NaN  0002005018            0   \n",
       "\n",
       "            Book-Title           Book-Author Year-Of-Publication  \\\n",
       "0  Classical Mythology    Mark P. O. Morford                2002   \n",
       "1         Clara Callan  Richard Bruce Wright                2001   \n",
       "2         Clara Callan  Richard Bruce Wright                2001   \n",
       "3         Clara Callan  Richard Bruce Wright                2001   \n",
       "4         Clara Callan  Richard Bruce Wright                2001   \n",
       "\n",
       "                 Publisher                                        Image-URL-S  \\\n",
       "0  Oxford University Press  http://images.amazon.com/images/P/0195153448.0...   \n",
       "1    HarperFlamingo Canada  http://images.amazon.com/images/P/0002005018.0...   \n",
       "2    HarperFlamingo Canada  http://images.amazon.com/images/P/0002005018.0...   \n",
       "3    HarperFlamingo Canada  http://images.amazon.com/images/P/0002005018.0...   \n",
       "4    HarperFlamingo Canada  http://images.amazon.com/images/P/0002005018.0...   \n",
       "\n",
       "                                         Image-URL-M  \\\n",
       "0  http://images.amazon.com/images/P/0195153448.0...   \n",
       "1  http://images.amazon.com/images/P/0002005018.0...   \n",
       "2  http://images.amazon.com/images/P/0002005018.0...   \n",
       "3  http://images.amazon.com/images/P/0002005018.0...   \n",
       "4  http://images.amazon.com/images/P/0002005018.0...   \n",
       "\n",
       "                                         Image-URL-L  \n",
       "0  http://images.amazon.com/images/P/0195153448.0...  \n",
       "1  http://images.amazon.com/images/P/0002005018.0...  \n",
       "2  http://images.amazon.com/images/P/0002005018.0...  \n",
       "3  http://images.amazon.com/images/P/0002005018.0...  \n",
       "4  http://images.amazon.com/images/P/0002005018.0...  "
      ]
     },
     "execution_count": 9,
     "metadata": {},
     "output_type": "execute_result"
    }
   ],
   "source": [
    "merged_df.head()"
   ]
  },
  {
   "cell_type": "code",
   "execution_count": 10,
   "id": "77531486",
   "metadata": {},
   "outputs": [],
   "source": [
    "# renaming dataset for simplicity\n",
    "df = merged_df"
   ]
  },
  {
   "cell_type": "code",
   "execution_count": 11,
   "id": "294fece7",
   "metadata": {},
   "outputs": [
    {
     "name": "stdout",
     "output_type": "stream",
     "text": [
      "<class 'pandas.core.frame.DataFrame'>\n",
      "Int64Index: 1031136 entries, 0 to 1031135\n",
      "Data columns (total 12 columns):\n",
      " #   Column               Non-Null Count    Dtype  \n",
      "---  ------               --------------    -----  \n",
      " 0   User-ID              1031136 non-null  int64  \n",
      " 1   Location             1031136 non-null  object \n",
      " 2   Age                  753301 non-null   float64\n",
      " 3   ISBN                 1031136 non-null  object \n",
      " 4   Book-Rating          1031136 non-null  int64  \n",
      " 5   Book-Title           1031136 non-null  object \n",
      " 6   Book-Author          1031135 non-null  object \n",
      " 7   Year-Of-Publication  1031136 non-null  object \n",
      " 8   Publisher            1031134 non-null  object \n",
      " 9   Image-URL-S          1031136 non-null  object \n",
      " 10  Image-URL-M          1031136 non-null  object \n",
      " 11  Image-URL-L          1031132 non-null  object \n",
      "dtypes: float64(1), int64(2), object(9)\n",
      "memory usage: 102.3+ MB\n"
     ]
    }
   ],
   "source": [
    "df.info()"
   ]
  },
  {
   "cell_type": "code",
   "execution_count": 12,
   "id": "0dce0d0c",
   "metadata": {},
   "outputs": [],
   "source": [
    "# creating a separate database for image url\n",
    "image = df.iloc[:,[0, 10]]"
   ]
  },
  {
   "cell_type": "code",
   "execution_count": 13,
   "id": "060224aa",
   "metadata": {},
   "outputs": [
    {
     "data": {
      "text/html": [
       "<div>\n",
       "<style scoped>\n",
       "    .dataframe tbody tr th:only-of-type {\n",
       "        vertical-align: middle;\n",
       "    }\n",
       "\n",
       "    .dataframe tbody tr th {\n",
       "        vertical-align: top;\n",
       "    }\n",
       "\n",
       "    .dataframe thead th {\n",
       "        text-align: right;\n",
       "    }\n",
       "</style>\n",
       "<table border=\"1\" class=\"dataframe\">\n",
       "  <thead>\n",
       "    <tr style=\"text-align: right;\">\n",
       "      <th></th>\n",
       "      <th>User-ID</th>\n",
       "      <th>Image-URL-M</th>\n",
       "    </tr>\n",
       "  </thead>\n",
       "  <tbody>\n",
       "    <tr>\n",
       "      <th>0</th>\n",
       "      <td>2</td>\n",
       "      <td>http://images.amazon.com/images/P/0195153448.0...</td>\n",
       "    </tr>\n",
       "    <tr>\n",
       "      <th>1</th>\n",
       "      <td>8</td>\n",
       "      <td>http://images.amazon.com/images/P/0002005018.0...</td>\n",
       "    </tr>\n",
       "    <tr>\n",
       "      <th>2</th>\n",
       "      <td>11400</td>\n",
       "      <td>http://images.amazon.com/images/P/0002005018.0...</td>\n",
       "    </tr>\n",
       "    <tr>\n",
       "      <th>3</th>\n",
       "      <td>11676</td>\n",
       "      <td>http://images.amazon.com/images/P/0002005018.0...</td>\n",
       "    </tr>\n",
       "    <tr>\n",
       "      <th>4</th>\n",
       "      <td>41385</td>\n",
       "      <td>http://images.amazon.com/images/P/0002005018.0...</td>\n",
       "    </tr>\n",
       "    <tr>\n",
       "      <th>...</th>\n",
       "      <td>...</td>\n",
       "      <td>...</td>\n",
       "    </tr>\n",
       "    <tr>\n",
       "      <th>1031131</th>\n",
       "      <td>278851</td>\n",
       "      <td>http://images.amazon.com/images/P/0743203763.0...</td>\n",
       "    </tr>\n",
       "    <tr>\n",
       "      <th>1031132</th>\n",
       "      <td>278851</td>\n",
       "      <td>http://images.amazon.com/images/P/0767907566.0...</td>\n",
       "    </tr>\n",
       "    <tr>\n",
       "      <th>1031133</th>\n",
       "      <td>278851</td>\n",
       "      <td>http://images.amazon.com/images/P/0884159221.0...</td>\n",
       "    </tr>\n",
       "    <tr>\n",
       "      <th>1031134</th>\n",
       "      <td>278851</td>\n",
       "      <td>http://images.amazon.com/images/P/0912333022.0...</td>\n",
       "    </tr>\n",
       "    <tr>\n",
       "      <th>1031135</th>\n",
       "      <td>278851</td>\n",
       "      <td>http://images.amazon.com/images/P/1569661057.0...</td>\n",
       "    </tr>\n",
       "  </tbody>\n",
       "</table>\n",
       "<p>1031136 rows × 2 columns</p>\n",
       "</div>"
      ],
      "text/plain": [
       "         User-ID                                        Image-URL-M\n",
       "0              2  http://images.amazon.com/images/P/0195153448.0...\n",
       "1              8  http://images.amazon.com/images/P/0002005018.0...\n",
       "2          11400  http://images.amazon.com/images/P/0002005018.0...\n",
       "3          11676  http://images.amazon.com/images/P/0002005018.0...\n",
       "4          41385  http://images.amazon.com/images/P/0002005018.0...\n",
       "...          ...                                                ...\n",
       "1031131   278851  http://images.amazon.com/images/P/0743203763.0...\n",
       "1031132   278851  http://images.amazon.com/images/P/0767907566.0...\n",
       "1031133   278851  http://images.amazon.com/images/P/0884159221.0...\n",
       "1031134   278851  http://images.amazon.com/images/P/0912333022.0...\n",
       "1031135   278851  http://images.amazon.com/images/P/1569661057.0...\n",
       "\n",
       "[1031136 rows x 2 columns]"
      ]
     },
     "execution_count": 13,
     "metadata": {},
     "output_type": "execute_result"
    }
   ],
   "source": [
    "image"
   ]
  },
  {
   "cell_type": "code",
   "execution_count": 14,
   "id": "9807ed26",
   "metadata": {},
   "outputs": [],
   "source": [
    "# excluding the image urls from the dataset\n",
    "df = df.iloc[:,0:9]"
   ]
  },
  {
   "cell_type": "code",
   "execution_count": 15,
   "id": "e1ff1c9a",
   "metadata": {},
   "outputs": [
    {
     "data": {
      "text/html": [
       "<div>\n",
       "<style scoped>\n",
       "    .dataframe tbody tr th:only-of-type {\n",
       "        vertical-align: middle;\n",
       "    }\n",
       "\n",
       "    .dataframe tbody tr th {\n",
       "        vertical-align: top;\n",
       "    }\n",
       "\n",
       "    .dataframe thead th {\n",
       "        text-align: right;\n",
       "    }\n",
       "</style>\n",
       "<table border=\"1\" class=\"dataframe\">\n",
       "  <thead>\n",
       "    <tr style=\"text-align: right;\">\n",
       "      <th></th>\n",
       "      <th>User-ID</th>\n",
       "      <th>Location</th>\n",
       "      <th>Age</th>\n",
       "      <th>ISBN</th>\n",
       "      <th>Book-Rating</th>\n",
       "      <th>Book-Title</th>\n",
       "      <th>Book-Author</th>\n",
       "      <th>Year-Of-Publication</th>\n",
       "      <th>Publisher</th>\n",
       "    </tr>\n",
       "  </thead>\n",
       "  <tbody>\n",
       "    <tr>\n",
       "      <th>0</th>\n",
       "      <td>2</td>\n",
       "      <td>stockton, california, usa</td>\n",
       "      <td>18.0</td>\n",
       "      <td>0195153448</td>\n",
       "      <td>0</td>\n",
       "      <td>Classical Mythology</td>\n",
       "      <td>Mark P. O. Morford</td>\n",
       "      <td>2002</td>\n",
       "      <td>Oxford University Press</td>\n",
       "    </tr>\n",
       "    <tr>\n",
       "      <th>1</th>\n",
       "      <td>8</td>\n",
       "      <td>timmins, ontario, canada</td>\n",
       "      <td>NaN</td>\n",
       "      <td>0002005018</td>\n",
       "      <td>5</td>\n",
       "      <td>Clara Callan</td>\n",
       "      <td>Richard Bruce Wright</td>\n",
       "      <td>2001</td>\n",
       "      <td>HarperFlamingo Canada</td>\n",
       "    </tr>\n",
       "    <tr>\n",
       "      <th>2</th>\n",
       "      <td>11400</td>\n",
       "      <td>ottawa, ontario, canada</td>\n",
       "      <td>49.0</td>\n",
       "      <td>0002005018</td>\n",
       "      <td>0</td>\n",
       "      <td>Clara Callan</td>\n",
       "      <td>Richard Bruce Wright</td>\n",
       "      <td>2001</td>\n",
       "      <td>HarperFlamingo Canada</td>\n",
       "    </tr>\n",
       "    <tr>\n",
       "      <th>3</th>\n",
       "      <td>11676</td>\n",
       "      <td>n/a, n/a, n/a</td>\n",
       "      <td>NaN</td>\n",
       "      <td>0002005018</td>\n",
       "      <td>8</td>\n",
       "      <td>Clara Callan</td>\n",
       "      <td>Richard Bruce Wright</td>\n",
       "      <td>2001</td>\n",
       "      <td>HarperFlamingo Canada</td>\n",
       "    </tr>\n",
       "    <tr>\n",
       "      <th>4</th>\n",
       "      <td>41385</td>\n",
       "      <td>sudbury, ontario, canada</td>\n",
       "      <td>NaN</td>\n",
       "      <td>0002005018</td>\n",
       "      <td>0</td>\n",
       "      <td>Clara Callan</td>\n",
       "      <td>Richard Bruce Wright</td>\n",
       "      <td>2001</td>\n",
       "      <td>HarperFlamingo Canada</td>\n",
       "    </tr>\n",
       "  </tbody>\n",
       "</table>\n",
       "</div>"
      ],
      "text/plain": [
       "   User-ID                   Location   Age        ISBN  Book-Rating  \\\n",
       "0        2  stockton, california, usa  18.0  0195153448            0   \n",
       "1        8   timmins, ontario, canada   NaN  0002005018            5   \n",
       "2    11400    ottawa, ontario, canada  49.0  0002005018            0   \n",
       "3    11676              n/a, n/a, n/a   NaN  0002005018            8   \n",
       "4    41385   sudbury, ontario, canada   NaN  0002005018            0   \n",
       "\n",
       "            Book-Title           Book-Author Year-Of-Publication  \\\n",
       "0  Classical Mythology    Mark P. O. Morford                2002   \n",
       "1         Clara Callan  Richard Bruce Wright                2001   \n",
       "2         Clara Callan  Richard Bruce Wright                2001   \n",
       "3         Clara Callan  Richard Bruce Wright                2001   \n",
       "4         Clara Callan  Richard Bruce Wright                2001   \n",
       "\n",
       "                 Publisher  \n",
       "0  Oxford University Press  \n",
       "1    HarperFlamingo Canada  \n",
       "2    HarperFlamingo Canada  \n",
       "3    HarperFlamingo Canada  \n",
       "4    HarperFlamingo Canada  "
      ]
     },
     "execution_count": 15,
     "metadata": {},
     "output_type": "execute_result"
    }
   ],
   "source": [
    "df.head()"
   ]
  },
  {
   "cell_type": "code",
   "execution_count": 16,
   "id": "2c692b99",
   "metadata": {},
   "outputs": [
    {
     "data": {
      "text/plain": [
       "(0, 9)"
      ]
     },
     "execution_count": 16,
     "metadata": {},
     "output_type": "execute_result"
    }
   ],
   "source": [
    "# checking for duplicated values\n",
    "df[df.duplicated()].shape"
   ]
  },
  {
   "cell_type": "code",
   "execution_count": 17,
   "id": "f273bd70",
   "metadata": {},
   "outputs": [
    {
     "data": {
      "text/html": [
       "<div>\n",
       "<style scoped>\n",
       "    .dataframe tbody tr th:only-of-type {\n",
       "        vertical-align: middle;\n",
       "    }\n",
       "\n",
       "    .dataframe tbody tr th {\n",
       "        vertical-align: top;\n",
       "    }\n",
       "\n",
       "    .dataframe thead th {\n",
       "        text-align: right;\n",
       "    }\n",
       "</style>\n",
       "<table border=\"1\" class=\"dataframe\">\n",
       "  <thead>\n",
       "    <tr style=\"text-align: right;\">\n",
       "      <th></th>\n",
       "      <th>User-ID</th>\n",
       "      <th>Location</th>\n",
       "      <th>Age</th>\n",
       "      <th>ISBN</th>\n",
       "      <th>Book-Rating</th>\n",
       "      <th>Book-Title</th>\n",
       "      <th>Book-Author</th>\n",
       "      <th>Year-Of-Publication</th>\n",
       "      <th>Publisher</th>\n",
       "    </tr>\n",
       "  </thead>\n",
       "  <tbody>\n",
       "  </tbody>\n",
       "</table>\n",
       "</div>"
      ],
      "text/plain": [
       "Empty DataFrame\n",
       "Columns: [User-ID, Location, Age, ISBN, Book-Rating, Book-Title, Book-Author, Year-Of-Publication, Publisher]\n",
       "Index: []"
      ]
     },
     "execution_count": 17,
     "metadata": {},
     "output_type": "execute_result"
    }
   ],
   "source": [
    "df[df.duplicated()]"
   ]
  },
  {
   "cell_type": "code",
   "execution_count": 19,
   "id": "94c28c61",
   "metadata": {},
   "outputs": [
    {
     "data": {
      "text/plain": [
       "0"
      ]
     },
     "execution_count": 19,
     "metadata": {},
     "output_type": "execute_result"
    }
   ],
   "source": [
    "df.duplicated().sum()"
   ]
  },
  {
   "cell_type": "code",
   "execution_count": 20,
   "id": "0fb276d7",
   "metadata": {
    "scrolled": true
   },
   "outputs": [
    {
     "data": {
      "text/plain": [
       "User-ID                     0\n",
       "Location                    0\n",
       "Age                    277835\n",
       "ISBN                        0\n",
       "Book-Rating                 0\n",
       "Book-Title                  0\n",
       "Book-Author                 1\n",
       "Year-Of-Publication         0\n",
       "Publisher                   2\n",
       "dtype: int64"
      ]
     },
     "execution_count": 20,
     "metadata": {},
     "output_type": "execute_result"
    }
   ],
   "source": [
    "df.isnull().sum()"
   ]
  },
  {
   "cell_type": "code",
   "execution_count": null,
   "id": "acc31fa7",
   "metadata": {},
   "outputs": [],
   "source": [
    "def fill_age(x):\n",
    "    if x.mode().empty:\n",
    "        return x\n",
    "    else:\n",
    "        return x.fillna(x.mode()[0])\n",
    "\n",
    "df['Age'] = df.groupby('Book-Title')['Age'].transform(fill_age)"
   ]
  },
  {
   "cell_type": "code",
   "execution_count": 20,
   "id": "04bf7464",
   "metadata": {
    "scrolled": false
   },
   "outputs": [
    {
     "data": {
      "text/html": [
       "<div>\n",
       "<style scoped>\n",
       "    .dataframe tbody tr th:only-of-type {\n",
       "        vertical-align: middle;\n",
       "    }\n",
       "\n",
       "    .dataframe tbody tr th {\n",
       "        vertical-align: top;\n",
       "    }\n",
       "\n",
       "    .dataframe thead th {\n",
       "        text-align: right;\n",
       "    }\n",
       "</style>\n",
       "<table border=\"1\" class=\"dataframe\">\n",
       "  <thead>\n",
       "    <tr style=\"text-align: right;\">\n",
       "      <th></th>\n",
       "      <th>User-ID</th>\n",
       "      <th>Location</th>\n",
       "      <th>Age</th>\n",
       "      <th>ISBN</th>\n",
       "      <th>Book-Rating</th>\n",
       "      <th>Book-Title</th>\n",
       "      <th>Book-Author</th>\n",
       "      <th>Year-Of-Publication</th>\n",
       "      <th>Publisher</th>\n",
       "    </tr>\n",
       "  </thead>\n",
       "  <tbody>\n",
       "    <tr>\n",
       "      <th>0</th>\n",
       "      <td>2</td>\n",
       "      <td>stockton, california, usa</td>\n",
       "      <td>18.0</td>\n",
       "      <td>0195153448</td>\n",
       "      <td>0</td>\n",
       "      <td>Classical Mythology</td>\n",
       "      <td>Mark P. O. Morford</td>\n",
       "      <td>2002</td>\n",
       "      <td>Oxford University Press</td>\n",
       "    </tr>\n",
       "    <tr>\n",
       "      <th>1</th>\n",
       "      <td>8</td>\n",
       "      <td>timmins, ontario, canada</td>\n",
       "      <td>29.0</td>\n",
       "      <td>0002005018</td>\n",
       "      <td>5</td>\n",
       "      <td>Clara Callan</td>\n",
       "      <td>Richard Bruce Wright</td>\n",
       "      <td>2001</td>\n",
       "      <td>HarperFlamingo Canada</td>\n",
       "    </tr>\n",
       "    <tr>\n",
       "      <th>2</th>\n",
       "      <td>11400</td>\n",
       "      <td>ottawa, ontario, canada</td>\n",
       "      <td>49.0</td>\n",
       "      <td>0002005018</td>\n",
       "      <td>0</td>\n",
       "      <td>Clara Callan</td>\n",
       "      <td>Richard Bruce Wright</td>\n",
       "      <td>2001</td>\n",
       "      <td>HarperFlamingo Canada</td>\n",
       "    </tr>\n",
       "    <tr>\n",
       "      <th>3</th>\n",
       "      <td>11676</td>\n",
       "      <td>n/a, n/a, n/a</td>\n",
       "      <td>29.0</td>\n",
       "      <td>0002005018</td>\n",
       "      <td>8</td>\n",
       "      <td>Clara Callan</td>\n",
       "      <td>Richard Bruce Wright</td>\n",
       "      <td>2001</td>\n",
       "      <td>HarperFlamingo Canada</td>\n",
       "    </tr>\n",
       "    <tr>\n",
       "      <th>4</th>\n",
       "      <td>41385</td>\n",
       "      <td>sudbury, ontario, canada</td>\n",
       "      <td>29.0</td>\n",
       "      <td>0002005018</td>\n",
       "      <td>0</td>\n",
       "      <td>Clara Callan</td>\n",
       "      <td>Richard Bruce Wright</td>\n",
       "      <td>2001</td>\n",
       "      <td>HarperFlamingo Canada</td>\n",
       "    </tr>\n",
       "    <tr>\n",
       "      <th>...</th>\n",
       "      <td>...</td>\n",
       "      <td>...</td>\n",
       "      <td>...</td>\n",
       "      <td>...</td>\n",
       "      <td>...</td>\n",
       "      <td>...</td>\n",
       "      <td>...</td>\n",
       "      <td>...</td>\n",
       "      <td>...</td>\n",
       "    </tr>\n",
       "    <tr>\n",
       "      <th>1031131</th>\n",
       "      <td>278851</td>\n",
       "      <td>dallas, texas, usa</td>\n",
       "      <td>33.0</td>\n",
       "      <td>0743203763</td>\n",
       "      <td>0</td>\n",
       "      <td>As Hogan Said . . . : The 389 Best Things Anyo...</td>\n",
       "      <td>Randy Voorhees</td>\n",
       "      <td>2000</td>\n",
       "      <td>Simon &amp;amp; Schuster</td>\n",
       "    </tr>\n",
       "    <tr>\n",
       "      <th>1031132</th>\n",
       "      <td>278851</td>\n",
       "      <td>dallas, texas, usa</td>\n",
       "      <td>33.0</td>\n",
       "      <td>0767907566</td>\n",
       "      <td>5</td>\n",
       "      <td>All Elevations Unknown: An Adventure in the He...</td>\n",
       "      <td>Sam Lightner</td>\n",
       "      <td>2001</td>\n",
       "      <td>Broadway Books</td>\n",
       "    </tr>\n",
       "    <tr>\n",
       "      <th>1031133</th>\n",
       "      <td>278851</td>\n",
       "      <td>dallas, texas, usa</td>\n",
       "      <td>33.0</td>\n",
       "      <td>0884159221</td>\n",
       "      <td>7</td>\n",
       "      <td>Why stop?: A guide to Texas historical roadsid...</td>\n",
       "      <td>Claude Dooley</td>\n",
       "      <td>1985</td>\n",
       "      <td>Lone Star Books</td>\n",
       "    </tr>\n",
       "    <tr>\n",
       "      <th>1031134</th>\n",
       "      <td>278851</td>\n",
       "      <td>dallas, texas, usa</td>\n",
       "      <td>33.0</td>\n",
       "      <td>0912333022</td>\n",
       "      <td>7</td>\n",
       "      <td>The Are You Being Served? Stories: 'Camping In...</td>\n",
       "      <td>Jeremy Lloyd</td>\n",
       "      <td>1997</td>\n",
       "      <td>Kqed Books</td>\n",
       "    </tr>\n",
       "    <tr>\n",
       "      <th>1031135</th>\n",
       "      <td>278851</td>\n",
       "      <td>dallas, texas, usa</td>\n",
       "      <td>33.0</td>\n",
       "      <td>1569661057</td>\n",
       "      <td>10</td>\n",
       "      <td>Dallas Street Map Guide and Directory, 2000 Ed...</td>\n",
       "      <td>Mapsco</td>\n",
       "      <td>1999</td>\n",
       "      <td>American Map Corporation</td>\n",
       "    </tr>\n",
       "  </tbody>\n",
       "</table>\n",
       "<p>1031136 rows × 9 columns</p>\n",
       "</div>"
      ],
      "text/plain": [
       "         User-ID                   Location   Age        ISBN  Book-Rating  \\\n",
       "0              2  stockton, california, usa  18.0  0195153448            0   \n",
       "1              8   timmins, ontario, canada  29.0  0002005018            5   \n",
       "2          11400    ottawa, ontario, canada  49.0  0002005018            0   \n",
       "3          11676              n/a, n/a, n/a  29.0  0002005018            8   \n",
       "4          41385   sudbury, ontario, canada  29.0  0002005018            0   \n",
       "...          ...                        ...   ...         ...          ...   \n",
       "1031131   278851         dallas, texas, usa  33.0  0743203763            0   \n",
       "1031132   278851         dallas, texas, usa  33.0  0767907566            5   \n",
       "1031133   278851         dallas, texas, usa  33.0  0884159221            7   \n",
       "1031134   278851         dallas, texas, usa  33.0  0912333022            7   \n",
       "1031135   278851         dallas, texas, usa  33.0  1569661057           10   \n",
       "\n",
       "                                                Book-Title  \\\n",
       "0                                      Classical Mythology   \n",
       "1                                             Clara Callan   \n",
       "2                                             Clara Callan   \n",
       "3                                             Clara Callan   \n",
       "4                                             Clara Callan   \n",
       "...                                                    ...   \n",
       "1031131  As Hogan Said . . . : The 389 Best Things Anyo...   \n",
       "1031132  All Elevations Unknown: An Adventure in the He...   \n",
       "1031133  Why stop?: A guide to Texas historical roadsid...   \n",
       "1031134  The Are You Being Served? Stories: 'Camping In...   \n",
       "1031135  Dallas Street Map Guide and Directory, 2000 Ed...   \n",
       "\n",
       "                  Book-Author Year-Of-Publication                 Publisher  \n",
       "0          Mark P. O. Morford                2002   Oxford University Press  \n",
       "1        Richard Bruce Wright                2001     HarperFlamingo Canada  \n",
       "2        Richard Bruce Wright                2001     HarperFlamingo Canada  \n",
       "3        Richard Bruce Wright                2001     HarperFlamingo Canada  \n",
       "4        Richard Bruce Wright                2001     HarperFlamingo Canada  \n",
       "...                       ...                 ...                       ...  \n",
       "1031131        Randy Voorhees                2000      Simon &amp; Schuster  \n",
       "1031132          Sam Lightner                2001            Broadway Books  \n",
       "1031133         Claude Dooley                1985           Lone Star Books  \n",
       "1031134          Jeremy Lloyd                1997                Kqed Books  \n",
       "1031135                Mapsco                1999  American Map Corporation  \n",
       "\n",
       "[1031136 rows x 9 columns]"
      ]
     },
     "execution_count": 20,
     "metadata": {},
     "output_type": "execute_result"
    }
   ],
   "source": [
    "df"
   ]
  },
  {
   "cell_type": "code",
   "execution_count": 21,
   "id": "c735b097",
   "metadata": {},
   "outputs": [
    {
     "data": {
      "text/plain": [
       "User-ID                    0\n",
       "Location                   0\n",
       "Age                    40608\n",
       "ISBN                       0\n",
       "Book-Rating                0\n",
       "Book-Title                 0\n",
       "Book-Author                1\n",
       "Year-Of-Publication        0\n",
       "Publisher                  2\n",
       "dtype: int64"
      ]
     },
     "execution_count": 21,
     "metadata": {},
     "output_type": "execute_result"
    }
   ],
   "source": [
    "df.isnull().sum()"
   ]
  },
  {
   "cell_type": "code",
   "execution_count": 22,
   "id": "d79f61e6",
   "metadata": {},
   "outputs": [],
   "source": [
    "df['Age'].fillna(value=0, inplace=True)"
   ]
  },
  {
   "cell_type": "code",
   "execution_count": 23,
   "id": "1d2f0d81",
   "metadata": {},
   "outputs": [
    {
     "data": {
      "text/plain": [
       "User-ID                0\n",
       "Location               0\n",
       "Age                    0\n",
       "ISBN                   0\n",
       "Book-Rating            0\n",
       "Book-Title             0\n",
       "Book-Author            1\n",
       "Year-Of-Publication    0\n",
       "Publisher              2\n",
       "dtype: int64"
      ]
     },
     "execution_count": 23,
     "metadata": {},
     "output_type": "execute_result"
    }
   ],
   "source": [
    "df.isnull().sum()"
   ]
  },
  {
   "cell_type": "code",
   "execution_count": 24,
   "id": "9ac0e3cc",
   "metadata": {},
   "outputs": [],
   "source": [
    "null_values = df[df.isnull().any(axis=1)]"
   ]
  },
  {
   "cell_type": "code",
   "execution_count": 25,
   "id": "5663d479",
   "metadata": {},
   "outputs": [
    {
     "data": {
      "text/html": [
       "<div>\n",
       "<style scoped>\n",
       "    .dataframe tbody tr th:only-of-type {\n",
       "        vertical-align: middle;\n",
       "    }\n",
       "\n",
       "    .dataframe tbody tr th {\n",
       "        vertical-align: top;\n",
       "    }\n",
       "\n",
       "    .dataframe thead th {\n",
       "        text-align: right;\n",
       "    }\n",
       "</style>\n",
       "<table border=\"1\" class=\"dataframe\">\n",
       "  <thead>\n",
       "    <tr style=\"text-align: right;\">\n",
       "      <th></th>\n",
       "      <th>User-ID</th>\n",
       "      <th>Location</th>\n",
       "      <th>Age</th>\n",
       "      <th>ISBN</th>\n",
       "      <th>Book-Rating</th>\n",
       "      <th>Book-Title</th>\n",
       "      <th>Book-Author</th>\n",
       "      <th>Year-Of-Publication</th>\n",
       "      <th>Publisher</th>\n",
       "    </tr>\n",
       "  </thead>\n",
       "  <tbody>\n",
       "    <tr>\n",
       "      <th>857163</th>\n",
       "      <td>98391</td>\n",
       "      <td>morrow, georgia, usa</td>\n",
       "      <td>52.0</td>\n",
       "      <td>193169656X</td>\n",
       "      <td>9</td>\n",
       "      <td>Tyrant Moon</td>\n",
       "      <td>Elaine Corvidae</td>\n",
       "      <td>2002</td>\n",
       "      <td>NaN</td>\n",
       "    </tr>\n",
       "    <tr>\n",
       "      <th>857174</th>\n",
       "      <td>98391</td>\n",
       "      <td>morrow, georgia, usa</td>\n",
       "      <td>52.0</td>\n",
       "      <td>1931696993</td>\n",
       "      <td>9</td>\n",
       "      <td>Finders Keepers</td>\n",
       "      <td>Linnea Sinclair</td>\n",
       "      <td>2001</td>\n",
       "      <td>NaN</td>\n",
       "    </tr>\n",
       "    <tr>\n",
       "      <th>857604</th>\n",
       "      <td>98647</td>\n",
       "      <td>selayang, selangor, malaysia</td>\n",
       "      <td>26.0</td>\n",
       "      <td>9627982032</td>\n",
       "      <td>8</td>\n",
       "      <td>The Credit Suisse Guide to Managing Your Perso...</td>\n",
       "      <td>NaN</td>\n",
       "      <td>1995</td>\n",
       "      <td>Edinburgh Financial Publishing</td>\n",
       "    </tr>\n",
       "  </tbody>\n",
       "</table>\n",
       "</div>"
      ],
      "text/plain": [
       "        User-ID                      Location   Age        ISBN  Book-Rating  \\\n",
       "857163    98391          morrow, georgia, usa  52.0  193169656X            9   \n",
       "857174    98391          morrow, georgia, usa  52.0  1931696993            9   \n",
       "857604    98647  selayang, selangor, malaysia  26.0  9627982032            8   \n",
       "\n",
       "                                               Book-Title      Book-Author  \\\n",
       "857163                                        Tyrant Moon  Elaine Corvidae   \n",
       "857174                                    Finders Keepers  Linnea Sinclair   \n",
       "857604  The Credit Suisse Guide to Managing Your Perso...              NaN   \n",
       "\n",
       "       Year-Of-Publication                       Publisher  \n",
       "857163                2002                             NaN  \n",
       "857174                2001                             NaN  \n",
       "857604                1995  Edinburgh Financial Publishing  "
      ]
     },
     "execution_count": 25,
     "metadata": {},
     "output_type": "execute_result"
    }
   ],
   "source": [
    "null_values"
   ]
  },
  {
   "cell_type": "code",
   "execution_count": 26,
   "id": "7d7d03e4",
   "metadata": {},
   "outputs": [
    {
     "data": {
      "text/html": [
       "<div>\n",
       "<style scoped>\n",
       "    .dataframe tbody tr th:only-of-type {\n",
       "        vertical-align: middle;\n",
       "    }\n",
       "\n",
       "    .dataframe tbody tr th {\n",
       "        vertical-align: top;\n",
       "    }\n",
       "\n",
       "    .dataframe thead th {\n",
       "        text-align: right;\n",
       "    }\n",
       "</style>\n",
       "<table border=\"1\" class=\"dataframe\">\n",
       "  <thead>\n",
       "    <tr style=\"text-align: right;\">\n",
       "      <th></th>\n",
       "      <th>User-ID</th>\n",
       "      <th>Location</th>\n",
       "      <th>Age</th>\n",
       "      <th>ISBN</th>\n",
       "      <th>Book-Rating</th>\n",
       "      <th>Book-Title</th>\n",
       "      <th>Book-Author</th>\n",
       "      <th>Year-Of-Publication</th>\n",
       "      <th>Publisher</th>\n",
       "    </tr>\n",
       "  </thead>\n",
       "  <tbody>\n",
       "    <tr>\n",
       "      <th>857163</th>\n",
       "      <td>98391</td>\n",
       "      <td>morrow, georgia, usa</td>\n",
       "      <td>52.0</td>\n",
       "      <td>193169656X</td>\n",
       "      <td>9</td>\n",
       "      <td>Tyrant Moon</td>\n",
       "      <td>Elaine Corvidae</td>\n",
       "      <td>2002</td>\n",
       "      <td>NaN</td>\n",
       "    </tr>\n",
       "  </tbody>\n",
       "</table>\n",
       "</div>"
      ],
      "text/plain": [
       "        User-ID              Location   Age        ISBN  Book-Rating  \\\n",
       "857163    98391  morrow, georgia, usa  52.0  193169656X            9   \n",
       "\n",
       "         Book-Title      Book-Author Year-Of-Publication Publisher  \n",
       "857163  Tyrant Moon  Elaine Corvidae                2002       NaN  "
      ]
     },
     "execution_count": 26,
     "metadata": {},
     "output_type": "execute_result"
    }
   ],
   "source": [
    "Tyrant_Moon = df[df['Book-Title'] == 'Tyrant Moon']\n",
    "Tyrant_Moon"
   ]
  },
  {
   "cell_type": "code",
   "execution_count": 27,
   "id": "60c1536f",
   "metadata": {},
   "outputs": [
    {
     "data": {
      "text/html": [
       "<div>\n",
       "<style scoped>\n",
       "    .dataframe tbody tr th:only-of-type {\n",
       "        vertical-align: middle;\n",
       "    }\n",
       "\n",
       "    .dataframe tbody tr th {\n",
       "        vertical-align: top;\n",
       "    }\n",
       "\n",
       "    .dataframe thead th {\n",
       "        text-align: right;\n",
       "    }\n",
       "</style>\n",
       "<table border=\"1\" class=\"dataframe\">\n",
       "  <thead>\n",
       "    <tr style=\"text-align: right;\">\n",
       "      <th></th>\n",
       "      <th>User-ID</th>\n",
       "      <th>Location</th>\n",
       "      <th>Age</th>\n",
       "      <th>ISBN</th>\n",
       "      <th>Book-Rating</th>\n",
       "      <th>Book-Title</th>\n",
       "      <th>Book-Author</th>\n",
       "      <th>Year-Of-Publication</th>\n",
       "      <th>Publisher</th>\n",
       "    </tr>\n",
       "  </thead>\n",
       "  <tbody>\n",
       "    <tr>\n",
       "      <th>377063</th>\n",
       "      <td>9580</td>\n",
       "      <td>bishops stortford, herts, united kingdom</td>\n",
       "      <td>51.0</td>\n",
       "      <td>082177364X</td>\n",
       "      <td>7</td>\n",
       "      <td>Finders Keepers</td>\n",
       "      <td>Fern Michaels</td>\n",
       "      <td>2002</td>\n",
       "      <td>Zebra Books</td>\n",
       "    </tr>\n",
       "    <tr>\n",
       "      <th>377064</th>\n",
       "      <td>11676</td>\n",
       "      <td>n/a, n/a, n/a</td>\n",
       "      <td>51.0</td>\n",
       "      <td>082177364X</td>\n",
       "      <td>8</td>\n",
       "      <td>Finders Keepers</td>\n",
       "      <td>Fern Michaels</td>\n",
       "      <td>2002</td>\n",
       "      <td>Zebra Books</td>\n",
       "    </tr>\n",
       "    <tr>\n",
       "      <th>377065</th>\n",
       "      <td>90334</td>\n",
       "      <td>columbus, ohio, usa</td>\n",
       "      <td>51.0</td>\n",
       "      <td>082177364X</td>\n",
       "      <td>6</td>\n",
       "      <td>Finders Keepers</td>\n",
       "      <td>Fern Michaels</td>\n",
       "      <td>2002</td>\n",
       "      <td>Zebra Books</td>\n",
       "    </tr>\n",
       "    <tr>\n",
       "      <th>377066</th>\n",
       "      <td>183995</td>\n",
       "      <td>columbus (grandview heights), ohio, usa</td>\n",
       "      <td>49.0</td>\n",
       "      <td>082177364X</td>\n",
       "      <td>0</td>\n",
       "      <td>Finders Keepers</td>\n",
       "      <td>Fern Michaels</td>\n",
       "      <td>2002</td>\n",
       "      <td>Zebra Books</td>\n",
       "    </tr>\n",
       "    <tr>\n",
       "      <th>469417</th>\n",
       "      <td>11676</td>\n",
       "      <td>n/a, n/a, n/a</td>\n",
       "      <td>51.0</td>\n",
       "      <td>1575663236</td>\n",
       "      <td>10</td>\n",
       "      <td>Finders Keepers</td>\n",
       "      <td>Fern Michaels</td>\n",
       "      <td>1998</td>\n",
       "      <td>Kensington Publishing Corporation</td>\n",
       "    </tr>\n",
       "    <tr>\n",
       "      <th>469418</th>\n",
       "      <td>35050</td>\n",
       "      <td>west columbia, south carolina, usa</td>\n",
       "      <td>33.0</td>\n",
       "      <td>1575663236</td>\n",
       "      <td>0</td>\n",
       "      <td>Finders Keepers</td>\n",
       "      <td>Fern Michaels</td>\n",
       "      <td>1998</td>\n",
       "      <td>Kensington Publishing Corporation</td>\n",
       "    </tr>\n",
       "    <tr>\n",
       "      <th>469419</th>\n",
       "      <td>203799</td>\n",
       "      <td>menasha, wisconsin, usa</td>\n",
       "      <td>54.0</td>\n",
       "      <td>1575663236</td>\n",
       "      <td>0</td>\n",
       "      <td>Finders Keepers</td>\n",
       "      <td>Fern Michaels</td>\n",
       "      <td>1998</td>\n",
       "      <td>Kensington Publishing Corporation</td>\n",
       "    </tr>\n",
       "    <tr>\n",
       "      <th>469420</th>\n",
       "      <td>215204</td>\n",
       "      <td>dunedin, otago, new zealand</td>\n",
       "      <td>51.0</td>\n",
       "      <td>1575663236</td>\n",
       "      <td>5</td>\n",
       "      <td>Finders Keepers</td>\n",
       "      <td>Fern Michaels</td>\n",
       "      <td>1998</td>\n",
       "      <td>Kensington Publishing Corporation</td>\n",
       "    </tr>\n",
       "    <tr>\n",
       "      <th>469421</th>\n",
       "      <td>227447</td>\n",
       "      <td>kelseyville, california, usa</td>\n",
       "      <td>38.0</td>\n",
       "      <td>1575663236</td>\n",
       "      <td>0</td>\n",
       "      <td>Finders Keepers</td>\n",
       "      <td>Fern Michaels</td>\n",
       "      <td>1998</td>\n",
       "      <td>Kensington Publishing Corporation</td>\n",
       "    </tr>\n",
       "    <tr>\n",
       "      <th>469422</th>\n",
       "      <td>270820</td>\n",
       "      <td>west bend, wisconsin, usa</td>\n",
       "      <td>52.0</td>\n",
       "      <td>1575663236</td>\n",
       "      <td>5</td>\n",
       "      <td>Finders Keepers</td>\n",
       "      <td>Fern Michaels</td>\n",
       "      <td>1998</td>\n",
       "      <td>Kensington Publishing Corporation</td>\n",
       "    </tr>\n",
       "    <tr>\n",
       "      <th>584705</th>\n",
       "      <td>23872</td>\n",
       "      <td>tulsa, oklahoma, usa</td>\n",
       "      <td>22.0</td>\n",
       "      <td>0070465037</td>\n",
       "      <td>7</td>\n",
       "      <td>Finders Keepers</td>\n",
       "      <td>Barbara Nickolae</td>\n",
       "      <td>1989</td>\n",
       "      <td>McGraw-Hill Companies</td>\n",
       "    </tr>\n",
       "    <tr>\n",
       "      <th>584706</th>\n",
       "      <td>239135</td>\n",
       "      <td>mobile, alabama, usa</td>\n",
       "      <td>39.0</td>\n",
       "      <td>0070465037</td>\n",
       "      <td>0</td>\n",
       "      <td>Finders Keepers</td>\n",
       "      <td>Barbara Nickolae</td>\n",
       "      <td>1989</td>\n",
       "      <td>McGraw-Hill Companies</td>\n",
       "    </tr>\n",
       "    <tr>\n",
       "      <th>636944</th>\n",
       "      <td>30711</td>\n",
       "      <td>sydney, new south wales, australia</td>\n",
       "      <td>32.0</td>\n",
       "      <td>0688118461</td>\n",
       "      <td>8</td>\n",
       "      <td>Finders Keepers</td>\n",
       "      <td>Emily Rodda</td>\n",
       "      <td>1993</td>\n",
       "      <td>Harpercollins Juvenile Books</td>\n",
       "    </tr>\n",
       "    <tr>\n",
       "      <th>636945</th>\n",
       "      <td>245963</td>\n",
       "      <td>saint louis, missouri, usa</td>\n",
       "      <td>51.0</td>\n",
       "      <td>0688118461</td>\n",
       "      <td>0</td>\n",
       "      <td>Finders Keepers</td>\n",
       "      <td>Emily Rodda</td>\n",
       "      <td>1993</td>\n",
       "      <td>Harpercollins Juvenile Books</td>\n",
       "    </tr>\n",
       "    <tr>\n",
       "      <th>804899</th>\n",
       "      <td>75860</td>\n",
       "      <td>buffalo, minnesota, usa</td>\n",
       "      <td>30.0</td>\n",
       "      <td>0061083909</td>\n",
       "      <td>0</td>\n",
       "      <td>Finders Keepers</td>\n",
       "      <td>Sharon Sala</td>\n",
       "      <td>2003</td>\n",
       "      <td>HarperTorch</td>\n",
       "    </tr>\n",
       "    <tr>\n",
       "      <th>804900</th>\n",
       "      <td>153662</td>\n",
       "      <td>ft. stewart, georgia, usa</td>\n",
       "      <td>44.0</td>\n",
       "      <td>0061083909</td>\n",
       "      <td>8</td>\n",
       "      <td>Finders Keepers</td>\n",
       "      <td>Sharon Sala</td>\n",
       "      <td>2003</td>\n",
       "      <td>HarperTorch</td>\n",
       "    </tr>\n",
       "    <tr>\n",
       "      <th>804901</th>\n",
       "      <td>238781</td>\n",
       "      <td>yucca valley, california, usa</td>\n",
       "      <td>51.0</td>\n",
       "      <td>0061083909</td>\n",
       "      <td>0</td>\n",
       "      <td>Finders Keepers</td>\n",
       "      <td>Sharon Sala</td>\n",
       "      <td>2003</td>\n",
       "      <td>HarperTorch</td>\n",
       "    </tr>\n",
       "    <tr>\n",
       "      <th>804902</th>\n",
       "      <td>256167</td>\n",
       "      <td>temecula, california, usa</td>\n",
       "      <td>14.0</td>\n",
       "      <td>0061083909</td>\n",
       "      <td>0</td>\n",
       "      <td>Finders Keepers</td>\n",
       "      <td>Sharon Sala</td>\n",
       "      <td>2003</td>\n",
       "      <td>HarperTorch</td>\n",
       "    </tr>\n",
       "    <tr>\n",
       "      <th>818196</th>\n",
       "      <td>80509</td>\n",
       "      <td>amherst, new hampshire, usa</td>\n",
       "      <td>51.0</td>\n",
       "      <td>0156309505</td>\n",
       "      <td>0</td>\n",
       "      <td>Finders Keepers</td>\n",
       "      <td>Will</td>\n",
       "      <td>1989</td>\n",
       "      <td>Voyager Books</td>\n",
       "    </tr>\n",
       "    <tr>\n",
       "      <th>818197</th>\n",
       "      <td>198711</td>\n",
       "      <td>little canada, minnesota, usa</td>\n",
       "      <td>62.0</td>\n",
       "      <td>0156309505</td>\n",
       "      <td>0</td>\n",
       "      <td>Finders Keepers</td>\n",
       "      <td>Will</td>\n",
       "      <td>1989</td>\n",
       "      <td>Voyager Books</td>\n",
       "    </tr>\n",
       "    <tr>\n",
       "      <th>823957</th>\n",
       "      <td>83431</td>\n",
       "      <td>trenton, ontario, canada</td>\n",
       "      <td>35.0</td>\n",
       "      <td>0973146907</td>\n",
       "      <td>0</td>\n",
       "      <td>Finders Keepers</td>\n",
       "      <td>Sean M. Costello</td>\n",
       "      <td>2002</td>\n",
       "      <td>Red Tower Publications</td>\n",
       "    </tr>\n",
       "    <tr>\n",
       "      <th>857174</th>\n",
       "      <td>98391</td>\n",
       "      <td>morrow, georgia, usa</td>\n",
       "      <td>52.0</td>\n",
       "      <td>1931696993</td>\n",
       "      <td>9</td>\n",
       "      <td>Finders Keepers</td>\n",
       "      <td>Linnea Sinclair</td>\n",
       "      <td>2001</td>\n",
       "      <td>NaN</td>\n",
       "    </tr>\n",
       "    <tr>\n",
       "      <th>925916</th>\n",
       "      <td>148744</td>\n",
       "      <td>campbellsport, wisconsin, usa</td>\n",
       "      <td>67.0</td>\n",
       "      <td>0373261160</td>\n",
       "      <td>0</td>\n",
       "      <td>Finders Keepers</td>\n",
       "      <td>Elizabeth Travis</td>\n",
       "      <td>1993</td>\n",
       "      <td>Worldwide Library</td>\n",
       "    </tr>\n",
       "    <tr>\n",
       "      <th>925917</th>\n",
       "      <td>223211</td>\n",
       "      <td>albuquerque, new mexico, usa</td>\n",
       "      <td>41.0</td>\n",
       "      <td>0373261160</td>\n",
       "      <td>0</td>\n",
       "      <td>Finders Keepers</td>\n",
       "      <td>Elizabeth Travis</td>\n",
       "      <td>1993</td>\n",
       "      <td>Worldwide Library</td>\n",
       "    </tr>\n",
       "    <tr>\n",
       "      <th>925918</th>\n",
       "      <td>231241</td>\n",
       "      <td>milo, maine, usa</td>\n",
       "      <td>62.0</td>\n",
       "      <td>0373261160</td>\n",
       "      <td>7</td>\n",
       "      <td>Finders Keepers</td>\n",
       "      <td>Elizabeth Travis</td>\n",
       "      <td>1993</td>\n",
       "      <td>Worldwide Library</td>\n",
       "    </tr>\n",
       "  </tbody>\n",
       "</table>\n",
       "</div>"
      ],
      "text/plain": [
       "        User-ID                                  Location   Age        ISBN  \\\n",
       "377063     9580  bishops stortford, herts, united kingdom  51.0  082177364X   \n",
       "377064    11676                             n/a, n/a, n/a  51.0  082177364X   \n",
       "377065    90334                       columbus, ohio, usa  51.0  082177364X   \n",
       "377066   183995   columbus (grandview heights), ohio, usa  49.0  082177364X   \n",
       "469417    11676                             n/a, n/a, n/a  51.0  1575663236   \n",
       "469418    35050        west columbia, south carolina, usa  33.0  1575663236   \n",
       "469419   203799                   menasha, wisconsin, usa  54.0  1575663236   \n",
       "469420   215204               dunedin, otago, new zealand  51.0  1575663236   \n",
       "469421   227447              kelseyville, california, usa  38.0  1575663236   \n",
       "469422   270820                 west bend, wisconsin, usa  52.0  1575663236   \n",
       "584705    23872                      tulsa, oklahoma, usa  22.0  0070465037   \n",
       "584706   239135                      mobile, alabama, usa  39.0  0070465037   \n",
       "636944    30711        sydney, new south wales, australia  32.0  0688118461   \n",
       "636945   245963                saint louis, missouri, usa  51.0  0688118461   \n",
       "804899    75860                   buffalo, minnesota, usa  30.0  0061083909   \n",
       "804900   153662                 ft. stewart, georgia, usa  44.0  0061083909   \n",
       "804901   238781             yucca valley, california, usa  51.0  0061083909   \n",
       "804902   256167                 temecula, california, usa  14.0  0061083909   \n",
       "818196    80509               amherst, new hampshire, usa  51.0  0156309505   \n",
       "818197   198711             little canada, minnesota, usa  62.0  0156309505   \n",
       "823957    83431                  trenton, ontario, canada  35.0  0973146907   \n",
       "857174    98391                      morrow, georgia, usa  52.0  1931696993   \n",
       "925916   148744             campbellsport, wisconsin, usa  67.0  0373261160   \n",
       "925917   223211              albuquerque, new mexico, usa  41.0  0373261160   \n",
       "925918   231241                          milo, maine, usa  62.0  0373261160   \n",
       "\n",
       "        Book-Rating       Book-Title       Book-Author Year-Of-Publication  \\\n",
       "377063            7  Finders Keepers     Fern Michaels                2002   \n",
       "377064            8  Finders Keepers     Fern Michaels                2002   \n",
       "377065            6  Finders Keepers     Fern Michaels                2002   \n",
       "377066            0  Finders Keepers     Fern Michaels                2002   \n",
       "469417           10  Finders Keepers     Fern Michaels                1998   \n",
       "469418            0  Finders Keepers     Fern Michaels                1998   \n",
       "469419            0  Finders Keepers     Fern Michaels                1998   \n",
       "469420            5  Finders Keepers     Fern Michaels                1998   \n",
       "469421            0  Finders Keepers     Fern Michaels                1998   \n",
       "469422            5  Finders Keepers     Fern Michaels                1998   \n",
       "584705            7  Finders Keepers  Barbara Nickolae                1989   \n",
       "584706            0  Finders Keepers  Barbara Nickolae                1989   \n",
       "636944            8  Finders Keepers       Emily Rodda                1993   \n",
       "636945            0  Finders Keepers       Emily Rodda                1993   \n",
       "804899            0  Finders Keepers       Sharon Sala                2003   \n",
       "804900            8  Finders Keepers       Sharon Sala                2003   \n",
       "804901            0  Finders Keepers       Sharon Sala                2003   \n",
       "804902            0  Finders Keepers       Sharon Sala                2003   \n",
       "818196            0  Finders Keepers              Will                1989   \n",
       "818197            0  Finders Keepers              Will                1989   \n",
       "823957            0  Finders Keepers  Sean M. Costello                2002   \n",
       "857174            9  Finders Keepers   Linnea Sinclair                2001   \n",
       "925916            0  Finders Keepers  Elizabeth Travis                1993   \n",
       "925917            0  Finders Keepers  Elizabeth Travis                1993   \n",
       "925918            7  Finders Keepers  Elizabeth Travis                1993   \n",
       "\n",
       "                                Publisher  \n",
       "377063                        Zebra Books  \n",
       "377064                        Zebra Books  \n",
       "377065                        Zebra Books  \n",
       "377066                        Zebra Books  \n",
       "469417  Kensington Publishing Corporation  \n",
       "469418  Kensington Publishing Corporation  \n",
       "469419  Kensington Publishing Corporation  \n",
       "469420  Kensington Publishing Corporation  \n",
       "469421  Kensington Publishing Corporation  \n",
       "469422  Kensington Publishing Corporation  \n",
       "584705              McGraw-Hill Companies  \n",
       "584706              McGraw-Hill Companies  \n",
       "636944       Harpercollins Juvenile Books  \n",
       "636945       Harpercollins Juvenile Books  \n",
       "804899                        HarperTorch  \n",
       "804900                        HarperTorch  \n",
       "804901                        HarperTorch  \n",
       "804902                        HarperTorch  \n",
       "818196                      Voyager Books  \n",
       "818197                      Voyager Books  \n",
       "823957             Red Tower Publications  \n",
       "857174                                NaN  \n",
       "925916                  Worldwide Library  \n",
       "925917                  Worldwide Library  \n",
       "925918                  Worldwide Library  "
      ]
     },
     "execution_count": 27,
     "metadata": {},
     "output_type": "execute_result"
    }
   ],
   "source": [
    "Finders_Keepers = df[df['Book-Title'] == 'Finders Keepers']\n",
    "Finders_Keepers"
   ]
  },
  {
   "cell_type": "code",
   "execution_count": 28,
   "id": "e1dbede5",
   "metadata": {},
   "outputs": [],
   "source": [
    "Finders_Keepers_mode = df.loc[df['Book-Title'] == 'Finders Keepers', 'Publisher'].mode()[0]\n",
    "df.loc[df['Book-Title'] == 'Finders Keepers', 'Publisher'].fillna(Finders_Keepers_mode, inplace=True)"
   ]
  },
  {
   "cell_type": "code",
   "execution_count": 29,
   "id": "efd15f1a",
   "metadata": {},
   "outputs": [],
   "source": [
    "df['Publisher'].fillna(value=Finders_Keepers_mode, inplace=True)"
   ]
  },
  {
   "cell_type": "code",
   "execution_count": 30,
   "id": "2917d451",
   "metadata": {},
   "outputs": [],
   "source": [
    "# update the cell at row 2, column \"Publisher\" with the value 0\n",
    "df.at[857163, \"Publisher\"] = 'Unknown'"
   ]
  },
  {
   "cell_type": "code",
   "execution_count": 31,
   "id": "967040b1",
   "metadata": {},
   "outputs": [
    {
     "data": {
      "text/html": [
       "<div>\n",
       "<style scoped>\n",
       "    .dataframe tbody tr th:only-of-type {\n",
       "        vertical-align: middle;\n",
       "    }\n",
       "\n",
       "    .dataframe tbody tr th {\n",
       "        vertical-align: top;\n",
       "    }\n",
       "\n",
       "    .dataframe thead th {\n",
       "        text-align: right;\n",
       "    }\n",
       "</style>\n",
       "<table border=\"1\" class=\"dataframe\">\n",
       "  <thead>\n",
       "    <tr style=\"text-align: right;\">\n",
       "      <th></th>\n",
       "      <th>User-ID</th>\n",
       "      <th>Location</th>\n",
       "      <th>Age</th>\n",
       "      <th>ISBN</th>\n",
       "      <th>Book-Rating</th>\n",
       "      <th>Book-Title</th>\n",
       "      <th>Book-Author</th>\n",
       "      <th>Year-Of-Publication</th>\n",
       "      <th>Publisher</th>\n",
       "    </tr>\n",
       "  </thead>\n",
       "  <tbody>\n",
       "    <tr>\n",
       "      <th>857163</th>\n",
       "      <td>98391</td>\n",
       "      <td>morrow, georgia, usa</td>\n",
       "      <td>52.0</td>\n",
       "      <td>193169656X</td>\n",
       "      <td>9</td>\n",
       "      <td>Tyrant Moon</td>\n",
       "      <td>Elaine Corvidae</td>\n",
       "      <td>2002</td>\n",
       "      <td>Unknown</td>\n",
       "    </tr>\n",
       "  </tbody>\n",
       "</table>\n",
       "</div>"
      ],
      "text/plain": [
       "        User-ID              Location   Age        ISBN  Book-Rating  \\\n",
       "857163    98391  morrow, georgia, usa  52.0  193169656X            9   \n",
       "\n",
       "         Book-Title      Book-Author Year-Of-Publication Publisher  \n",
       "857163  Tyrant Moon  Elaine Corvidae                2002   Unknown  "
      ]
     },
     "execution_count": 31,
     "metadata": {},
     "output_type": "execute_result"
    }
   ],
   "source": [
    "Tyrant_Moon = df[df['Book-Title'] == 'Tyrant Moon']\n",
    "Tyrant_Moon"
   ]
  },
  {
   "cell_type": "code",
   "execution_count": 32,
   "id": "7ad64cd5",
   "metadata": {},
   "outputs": [
    {
     "data": {
      "text/plain": [
       "'Kensington Publishing Corporation'"
      ]
     },
     "execution_count": 32,
     "metadata": {},
     "output_type": "execute_result"
    }
   ],
   "source": [
    "Finders_Keepers_mode"
   ]
  },
  {
   "cell_type": "code",
   "execution_count": 33,
   "id": "8e0322c2",
   "metadata": {},
   "outputs": [
    {
     "data": {
      "text/plain": [
       "User-ID                0\n",
       "Location               0\n",
       "Age                    0\n",
       "ISBN                   0\n",
       "Book-Rating            0\n",
       "Book-Title             0\n",
       "Book-Author            1\n",
       "Year-Of-Publication    0\n",
       "Publisher              0\n",
       "dtype: int64"
      ]
     },
     "execution_count": 33,
     "metadata": {},
     "output_type": "execute_result"
    }
   ],
   "source": [
    "df.isnull().sum()"
   ]
  },
  {
   "cell_type": "code",
   "execution_count": 34,
   "id": "3c9092df",
   "metadata": {},
   "outputs": [
    {
     "name": "stdout",
     "output_type": "stream",
     "text": [
      "The Credit Suisse Guide to Managing Your Personal Wealth\n"
     ]
    }
   ],
   "source": [
    "print(df.at[857604, \"Book-Title\"])"
   ]
  },
  {
   "cell_type": "code",
   "execution_count": 35,
   "id": "f20476c8",
   "metadata": {},
   "outputs": [
    {
     "data": {
      "text/html": [
       "<div>\n",
       "<style scoped>\n",
       "    .dataframe tbody tr th:only-of-type {\n",
       "        vertical-align: middle;\n",
       "    }\n",
       "\n",
       "    .dataframe tbody tr th {\n",
       "        vertical-align: top;\n",
       "    }\n",
       "\n",
       "    .dataframe thead th {\n",
       "        text-align: right;\n",
       "    }\n",
       "</style>\n",
       "<table border=\"1\" class=\"dataframe\">\n",
       "  <thead>\n",
       "    <tr style=\"text-align: right;\">\n",
       "      <th></th>\n",
       "      <th>User-ID</th>\n",
       "      <th>Location</th>\n",
       "      <th>Age</th>\n",
       "      <th>ISBN</th>\n",
       "      <th>Book-Rating</th>\n",
       "      <th>Book-Title</th>\n",
       "      <th>Book-Author</th>\n",
       "      <th>Year-Of-Publication</th>\n",
       "      <th>Publisher</th>\n",
       "    </tr>\n",
       "  </thead>\n",
       "  <tbody>\n",
       "    <tr>\n",
       "      <th>857604</th>\n",
       "      <td>98647</td>\n",
       "      <td>selayang, selangor, malaysia</td>\n",
       "      <td>26.0</td>\n",
       "      <td>9627982032</td>\n",
       "      <td>8</td>\n",
       "      <td>The Credit Suisse Guide to Managing Your Perso...</td>\n",
       "      <td>NaN</td>\n",
       "      <td>1995</td>\n",
       "      <td>Edinburgh Financial Publishing</td>\n",
       "    </tr>\n",
       "  </tbody>\n",
       "</table>\n",
       "</div>"
      ],
      "text/plain": [
       "        User-ID                      Location   Age        ISBN  Book-Rating  \\\n",
       "857604    98647  selayang, selangor, malaysia  26.0  9627982032            8   \n",
       "\n",
       "                                               Book-Title Book-Author  \\\n",
       "857604  The Credit Suisse Guide to Managing Your Perso...         NaN   \n",
       "\n",
       "       Year-Of-Publication                       Publisher  \n",
       "857604                1995  Edinburgh Financial Publishing  "
      ]
     },
     "execution_count": 35,
     "metadata": {},
     "output_type": "execute_result"
    }
   ],
   "source": [
    "Author = df[df['Book-Title'] == 'The Credit Suisse Guide to Managing Your Personal Wealth']\n",
    "Author"
   ]
  },
  {
   "cell_type": "code",
   "execution_count": 36,
   "id": "96a92422",
   "metadata": {},
   "outputs": [],
   "source": [
    "df.at[857604, \"Book-Author\"] = 'Unknown'"
   ]
  },
  {
   "cell_type": "code",
   "execution_count": 37,
   "id": "e9410e9f",
   "metadata": {},
   "outputs": [
    {
     "data": {
      "text/html": [
       "<div>\n",
       "<style scoped>\n",
       "    .dataframe tbody tr th:only-of-type {\n",
       "        vertical-align: middle;\n",
       "    }\n",
       "\n",
       "    .dataframe tbody tr th {\n",
       "        vertical-align: top;\n",
       "    }\n",
       "\n",
       "    .dataframe thead th {\n",
       "        text-align: right;\n",
       "    }\n",
       "</style>\n",
       "<table border=\"1\" class=\"dataframe\">\n",
       "  <thead>\n",
       "    <tr style=\"text-align: right;\">\n",
       "      <th></th>\n",
       "      <th>User-ID</th>\n",
       "      <th>Location</th>\n",
       "      <th>Age</th>\n",
       "      <th>ISBN</th>\n",
       "      <th>Book-Rating</th>\n",
       "      <th>Book-Title</th>\n",
       "      <th>Book-Author</th>\n",
       "      <th>Year-Of-Publication</th>\n",
       "      <th>Publisher</th>\n",
       "    </tr>\n",
       "  </thead>\n",
       "  <tbody>\n",
       "    <tr>\n",
       "      <th>857604</th>\n",
       "      <td>98647</td>\n",
       "      <td>selayang, selangor, malaysia</td>\n",
       "      <td>26.0</td>\n",
       "      <td>9627982032</td>\n",
       "      <td>8</td>\n",
       "      <td>The Credit Suisse Guide to Managing Your Perso...</td>\n",
       "      <td>Unknown</td>\n",
       "      <td>1995</td>\n",
       "      <td>Edinburgh Financial Publishing</td>\n",
       "    </tr>\n",
       "  </tbody>\n",
       "</table>\n",
       "</div>"
      ],
      "text/plain": [
       "        User-ID                      Location   Age        ISBN  Book-Rating  \\\n",
       "857604    98647  selayang, selangor, malaysia  26.0  9627982032            8   \n",
       "\n",
       "                                               Book-Title Book-Author  \\\n",
       "857604  The Credit Suisse Guide to Managing Your Perso...     Unknown   \n",
       "\n",
       "       Year-Of-Publication                       Publisher  \n",
       "857604                1995  Edinburgh Financial Publishing  "
      ]
     },
     "execution_count": 37,
     "metadata": {},
     "output_type": "execute_result"
    }
   ],
   "source": [
    "Author = df[df['Book-Title'] == 'The Credit Suisse Guide to Managing Your Personal Wealth']\n",
    "Author"
   ]
  },
  {
   "cell_type": "code",
   "execution_count": 38,
   "id": "602e6b45",
   "metadata": {},
   "outputs": [
    {
     "data": {
      "text/plain": [
       "User-ID                0\n",
       "Location               0\n",
       "Age                    0\n",
       "ISBN                   0\n",
       "Book-Rating            0\n",
       "Book-Title             0\n",
       "Book-Author            0\n",
       "Year-Of-Publication    0\n",
       "Publisher              0\n",
       "dtype: int64"
      ]
     },
     "execution_count": 38,
     "metadata": {},
     "output_type": "execute_result"
    }
   ],
   "source": [
    "df.isnull().sum()"
   ]
  },
  {
   "cell_type": "code",
   "execution_count": 39,
   "id": "9d788e98",
   "metadata": {},
   "outputs": [],
   "source": [
    "df[\"Year-Of-Publication\"] = pd.to_numeric(df[\"Year-Of-Publication\"], errors='coerce')"
   ]
  },
  {
   "cell_type": "code",
   "execution_count": 40,
   "id": "67af9d83",
   "metadata": {},
   "outputs": [
    {
     "data": {
      "text/plain": [
       "User-ID                0\n",
       "Location               0\n",
       "Age                    0\n",
       "ISBN                   0\n",
       "Book-Rating            0\n",
       "Book-Title             0\n",
       "Book-Author            0\n",
       "Year-Of-Publication    4\n",
       "Publisher              0\n",
       "dtype: int64"
      ]
     },
     "execution_count": 40,
     "metadata": {},
     "output_type": "execute_result"
    }
   ],
   "source": [
    "df.isnull().sum()"
   ]
  },
  {
   "cell_type": "code",
   "execution_count": 41,
   "id": "e54cb1cf",
   "metadata": {},
   "outputs": [],
   "source": [
    "df['Year-Of-Publication'].fillna(value=0, inplace=True)"
   ]
  },
  {
   "cell_type": "code",
   "execution_count": 42,
   "id": "f38ea029",
   "metadata": {},
   "outputs": [
    {
     "data": {
      "text/plain": [
       "User-ID                0\n",
       "Location               0\n",
       "Age                    0\n",
       "ISBN                   0\n",
       "Book-Rating            0\n",
       "Book-Title             0\n",
       "Book-Author            0\n",
       "Year-Of-Publication    0\n",
       "Publisher              0\n",
       "dtype: int64"
      ]
     },
     "execution_count": 42,
     "metadata": {},
     "output_type": "execute_result"
    }
   ],
   "source": [
    "df.isnull().sum()"
   ]
  },
  {
   "cell_type": "code",
   "execution_count": 43,
   "id": "e7ae3e16",
   "metadata": {},
   "outputs": [
    {
     "name": "stdout",
     "output_type": "stream",
     "text": [
      "<class 'pandas.core.frame.DataFrame'>\n",
      "Int64Index: 1031136 entries, 0 to 1031135\n",
      "Data columns (total 9 columns):\n",
      " #   Column               Non-Null Count    Dtype  \n",
      "---  ------               --------------    -----  \n",
      " 0   User-ID              1031136 non-null  int64  \n",
      " 1   Location             1031136 non-null  object \n",
      " 2   Age                  1031136 non-null  float64\n",
      " 3   ISBN                 1031136 non-null  object \n",
      " 4   Book-Rating          1031136 non-null  int64  \n",
      " 5   Book-Title           1031136 non-null  object \n",
      " 6   Book-Author          1031136 non-null  object \n",
      " 7   Year-Of-Publication  1031136 non-null  float64\n",
      " 8   Publisher            1031136 non-null  object \n",
      "dtypes: float64(2), int64(2), object(5)\n",
      "memory usage: 110.9+ MB\n"
     ]
    }
   ],
   "source": [
    "df.info()"
   ]
  },
  {
   "cell_type": "code",
   "execution_count": 44,
   "id": "f54838a6",
   "metadata": {},
   "outputs": [
    {
     "data": {
      "text/html": [
       "<div>\n",
       "<style scoped>\n",
       "    .dataframe tbody tr th:only-of-type {\n",
       "        vertical-align: middle;\n",
       "    }\n",
       "\n",
       "    .dataframe tbody tr th {\n",
       "        vertical-align: top;\n",
       "    }\n",
       "\n",
       "    .dataframe thead th {\n",
       "        text-align: right;\n",
       "    }\n",
       "</style>\n",
       "<table border=\"1\" class=\"dataframe\">\n",
       "  <thead>\n",
       "    <tr style=\"text-align: right;\">\n",
       "      <th></th>\n",
       "      <th>User-ID</th>\n",
       "      <th>Location</th>\n",
       "      <th>Age</th>\n",
       "      <th>ISBN</th>\n",
       "      <th>Book-Rating</th>\n",
       "      <th>Book-Title</th>\n",
       "      <th>Book-Author</th>\n",
       "      <th>Year-Of-Publication</th>\n",
       "      <th>Publisher</th>\n",
       "    </tr>\n",
       "  </thead>\n",
       "  <tbody>\n",
       "    <tr>\n",
       "      <th>0</th>\n",
       "      <td>2</td>\n",
       "      <td>stockton, california, usa</td>\n",
       "      <td>18.0</td>\n",
       "      <td>0195153448</td>\n",
       "      <td>0</td>\n",
       "      <td>Classical Mythology</td>\n",
       "      <td>Mark P. O. Morford</td>\n",
       "      <td>2002.0</td>\n",
       "      <td>Oxford University Press</td>\n",
       "    </tr>\n",
       "    <tr>\n",
       "      <th>1</th>\n",
       "      <td>8</td>\n",
       "      <td>timmins, ontario, canada</td>\n",
       "      <td>29.0</td>\n",
       "      <td>0002005018</td>\n",
       "      <td>5</td>\n",
       "      <td>Clara Callan</td>\n",
       "      <td>Richard Bruce Wright</td>\n",
       "      <td>2001.0</td>\n",
       "      <td>HarperFlamingo Canada</td>\n",
       "    </tr>\n",
       "    <tr>\n",
       "      <th>2</th>\n",
       "      <td>11400</td>\n",
       "      <td>ottawa, ontario, canada</td>\n",
       "      <td>49.0</td>\n",
       "      <td>0002005018</td>\n",
       "      <td>0</td>\n",
       "      <td>Clara Callan</td>\n",
       "      <td>Richard Bruce Wright</td>\n",
       "      <td>2001.0</td>\n",
       "      <td>HarperFlamingo Canada</td>\n",
       "    </tr>\n",
       "    <tr>\n",
       "      <th>3</th>\n",
       "      <td>11676</td>\n",
       "      <td>n/a, n/a, n/a</td>\n",
       "      <td>29.0</td>\n",
       "      <td>0002005018</td>\n",
       "      <td>8</td>\n",
       "      <td>Clara Callan</td>\n",
       "      <td>Richard Bruce Wright</td>\n",
       "      <td>2001.0</td>\n",
       "      <td>HarperFlamingo Canada</td>\n",
       "    </tr>\n",
       "    <tr>\n",
       "      <th>4</th>\n",
       "      <td>41385</td>\n",
       "      <td>sudbury, ontario, canada</td>\n",
       "      <td>29.0</td>\n",
       "      <td>0002005018</td>\n",
       "      <td>0</td>\n",
       "      <td>Clara Callan</td>\n",
       "      <td>Richard Bruce Wright</td>\n",
       "      <td>2001.0</td>\n",
       "      <td>HarperFlamingo Canada</td>\n",
       "    </tr>\n",
       "  </tbody>\n",
       "</table>\n",
       "</div>"
      ],
      "text/plain": [
       "   User-ID                   Location   Age        ISBN  Book-Rating  \\\n",
       "0        2  stockton, california, usa  18.0  0195153448            0   \n",
       "1        8   timmins, ontario, canada  29.0  0002005018            5   \n",
       "2    11400    ottawa, ontario, canada  49.0  0002005018            0   \n",
       "3    11676              n/a, n/a, n/a  29.0  0002005018            8   \n",
       "4    41385   sudbury, ontario, canada  29.0  0002005018            0   \n",
       "\n",
       "            Book-Title           Book-Author  Year-Of-Publication  \\\n",
       "0  Classical Mythology    Mark P. O. Morford               2002.0   \n",
       "1         Clara Callan  Richard Bruce Wright               2001.0   \n",
       "2         Clara Callan  Richard Bruce Wright               2001.0   \n",
       "3         Clara Callan  Richard Bruce Wright               2001.0   \n",
       "4         Clara Callan  Richard Bruce Wright               2001.0   \n",
       "\n",
       "                 Publisher  \n",
       "0  Oxford University Press  \n",
       "1    HarperFlamingo Canada  \n",
       "2    HarperFlamingo Canada  \n",
       "3    HarperFlamingo Canada  \n",
       "4    HarperFlamingo Canada  "
      ]
     },
     "execution_count": 44,
     "metadata": {},
     "output_type": "execute_result"
    }
   ],
   "source": [
    "df.head(5)"
   ]
  },
  {
   "cell_type": "code",
   "execution_count": 45,
   "id": "bb4f62a8",
   "metadata": {},
   "outputs": [
    {
     "data": {
      "text/plain": [
       "Index(['User-ID', 'Location', 'Age', 'ISBN', 'Book-Rating', 'Book-Title',\n",
       "       'Book-Author', 'Year-Of-Publication', 'Publisher'],\n",
       "      dtype='object')"
      ]
     },
     "execution_count": 45,
     "metadata": {},
     "output_type": "execute_result"
    }
   ],
   "source": [
    "df.columns"
   ]
  },
  {
   "cell_type": "code",
   "execution_count": 46,
   "id": "9200e4ba",
   "metadata": {},
   "outputs": [],
   "source": [
    "#Rename the columns\n",
    "df.rename(columns={'Book-Rating': 'bookRating', 'Book-Title': 'bookTitle', 'Year-Of-Publication': 'yearOfPublication', 'Book-Author' :'bookAuthor',}, inplace=True)\n"
   ]
  },
  {
   "cell_type": "code",
   "execution_count": null,
   "id": "9670aa10",
   "metadata": {},
   "outputs": [],
   "source": [
    "df.merge(image,on='User-ID')"
   ]
  },
  {
   "cell_type": "code",
   "execution_count": 49,
   "id": "26e10b6c",
   "metadata": {},
   "outputs": [],
   "source": [
    "df.to_csv('Final.csv')"
   ]
  },
  {
   "cell_type": "markdown",
   "id": "2f267ddc",
   "metadata": {},
   "source": [
    "### Visualising Explicit Rating Counts"
   ]
  },
  {
   "cell_type": "code",
   "execution_count": 47,
   "id": "ea4a761a",
   "metadata": {},
   "outputs": [
    {
     "name": "stdout",
     "output_type": "stream",
     "text": [
      "Explicit Ratings data shape = (383842, 9)\n",
      "Implicit Ratings data shape = (647294, 9)\n"
     ]
    }
   ],
   "source": [
    "rating_explicit =df.loc[df.bookRating != 0, :]\n",
    "rating_implicit =df.loc[df.bookRating == 0, :]\n",
    "print(\"Explicit Ratings data shape = \" + str(rating_explicit.shape) + \"\\nImplicit Ratings data shape = \" + str(rating_implicit.shape))\n"
   ]
  },
  {
   "cell_type": "code",
   "execution_count": 48,
   "id": "6d7b7e86",
   "metadata": {},
   "outputs": [
    {
     "data": {
      "image/png": "[encoded data removed]",
      "text/plain": [
       "<Figure size 648x360 with 1 Axes>"
      ]
     },
     "metadata": {
      "needs_background": "light"
     },
     "output_type": "display_data"
    }
   ],
   "source": [
    "plt.figure(figsize=(9, 5))\n",
    "plt.title('Explicit Rating Counts')\n",
    "sns.countplot(x = 'bookRating', data = rating_explicit);"
   ]
  },
  {
   "cell_type": "markdown",
   "id": "b504e3c0",
   "metadata": {},
   "source": [
    "### Data Exploration"
   ]
  },
  {
   "cell_type": "markdown",
   "id": "774e809c",
   "metadata": {},
   "source": [
    "### Visualising top 30 most read books"
   ]
  },
  {
   "cell_type": "markdown",
   "id": "43efe6d2",
   "metadata": {},
   "source": [
    "Using Series.value_counts() and sns.barplot for creating data and visualisation respectively"
   ]
  },
  {
   "cell_type": "code",
   "execution_count": 49,
   "id": "4e796d4a",
   "metadata": {},
   "outputs": [
    {
     "data": {
      "image/png": "[encoded data removed]",
      "text/plain": [
       "<Figure size 864x864 with 1 Axes>"
      ]
     },
     "metadata": {
      "needs_background": "light"
     },
     "output_type": "display_data"
    }
   ],
   "source": [
    "most_read = df.bookTitle.value_counts().reset_index()\n",
    "most_read.columns = ['bookTitle','count']\n",
    "\n",
    "plt.figure(figsize = (12,12))\n",
    "plt.title(\"Most Read Books\")\n",
    "sns.barplot(x = 'count', y = 'bookTitle', data = most_read.head(30));"
   ]
  },
  {
   "cell_type": "markdown",
   "id": "e8f45c0d",
   "metadata": {},
   "source": [
    "### Visualising top 30 most read books with there average ratings"
   ]
  },
  {
   "cell_type": "markdown",
   "id": "2904edfa",
   "metadata": {},
   "source": [
    "Using DataFrame.groupby() and DataFrame.sort_values() for ploting a barplot"
   ]
  },
  {
   "cell_type": "code",
   "execution_count": 50,
   "id": "5a4a42ea",
   "metadata": {},
   "outputs": [
    {
     "data": {
      "image/png": "[encoded data removed]",
      "text/plain": [
       "<Figure size 864x720 with 1 Axes>"
      ]
     },
     "metadata": {
      "needs_background": "light"
     },
     "output_type": "display_data"
    }
   ],
   "source": [
    "avg_data = df.groupby('bookTitle', as_index=False)['bookRating'].max()\n",
    "temp = df.bookTitle.value_counts().reset_index()\n",
    "temp.columns = ['bookTitle','count']\n",
    "most_rated_by_reads = pd.merge(avg_data,temp,on='bookTitle')\n",
    "\n",
    "most_rated_by_reads = most_rated_by_reads.sort_values('count',ascending=False)\n",
    "\n",
    "plt.figure(figsize=(12,10))\n",
    "plt.title(\"Average Ratings of Most Read books\")\n",
    "sns.barplot(x = 'bookRating', y = 'bookTitle', data = most_rated_by_reads.head(30));"
   ]
  },
  {
   "cell_type": "markdown",
   "id": "c3cd165f",
   "metadata": {},
   "source": [
    "### Visualising Count of Books with a specific length"
   ]
  },
  {
   "cell_type": "markdown",
   "id": "51c18147",
   "metadata": {},
   "source": [
    "Creating title_length data for every title in bookTitle column and ploting a histplot"
   ]
  },
  {
   "cell_type": "code",
   "execution_count": 51,
   "id": "5f41e981",
   "metadata": {},
   "outputs": [
    {
     "data": {
      "image/png": "[encoded data removed]",
      "text/plain": [
       "<Figure size 576x432 with 1 Axes>"
      ]
     },
     "metadata": {
      "needs_background": "light"
     },
     "output_type": "display_data"
    }
   ],
   "source": [
    "title_length = df.bookTitle.str.split().map(lambda x: len(x))\n",
    "plt.figure(figsize=(8,6))\n",
    "plt.title('Number of books with a specific title length')\n",
    "sns.histplot(title_length, bins=25, color = 'lightgreen', linewidth = 2, edgecolor = 'black');"
   ]
  },
  {
   "cell_type": "markdown",
   "id": "65597bd5",
   "metadata": {},
   "source": [
    "### Visualising top 30 years with most book being published"
   ]
  },
  {
   "cell_type": "markdown",
   "id": "a366ceb3",
   "metadata": {},
   "source": [
    "We count the number of times a book is published in a particular year and plot a barplot"
   ]
  },
  {
   "cell_type": "code",
   "execution_count": 52,
   "id": "e323b609",
   "metadata": {},
   "outputs": [
    {
     "data": {
      "text/plain": [
       "Index(['User-ID', 'Location', 'Age', 'ISBN', 'bookRating', 'bookTitle',\n",
       "       'bookAuthor', 'yearOfPublication', 'Publisher'],\n",
       "      dtype='object')"
      ]
     },
     "execution_count": 52,
     "metadata": {},
     "output_type": "execute_result"
    }
   ],
   "source": [
    "df.columns"
   ]
  },
  {
   "cell_type": "code",
   "execution_count": 53,
   "id": "c76cae41",
   "metadata": {},
   "outputs": [
    {
     "data": {
      "image/png": "[encoded data removed]",
      "text/plain": [
       "<Figure size 864x720 with 1 Axes>"
      ]
     },
     "metadata": {
      "needs_background": "light"
     },
     "output_type": "display_data"
    }
   ],
   "source": [
    "yearOP = df['yearOfPublication'].value_counts().reset_index()\n",
    "\n",
    "yearOP.columns = ['value', 'count']\n",
    "\n",
    "yearOP['year'] = yearOP['value'].astype(str) + ' year'\n",
    "\n",
    "yearOP = yearOP.sort_values('count',ascending=False)\n",
    "\n",
    "plt.figure(figsize=(12,10))\n",
    "plt.title('Top 30 years of publishing')\n",
    "sns.barplot(data = yearOP.head(30), x='count', y=\"year\");"
   ]
  },
  {
   "cell_type": "markdown",
   "id": "661286b0",
   "metadata": {},
   "source": [
    "### Visualising top 30 authors with most books"
   ]
  },
  {
   "cell_type": "markdown",
   "id": "31cc317e",
   "metadata": {},
   "source": [
    "We count the number of times a book written by an author and plot a barplot for the top 30 authors"
   ]
  },
  {
   "cell_type": "code",
   "execution_count": 54,
   "id": "bf91f5ff",
   "metadata": {},
   "outputs": [
    {
     "data": {
      "image/png": "[encoded data removed]",
      "text/plain": [
       "<Figure size 864x720 with 1 Axes>"
      ]
     },
     "metadata": {
      "needs_background": "light"
     },
     "output_type": "display_data"
    }
   ],
   "source": [
    "top_author = df['bookAuthor'].value_counts().reset_index()\n",
    "top_author.columns = ['Author', 'count']\n",
    "top_author['Author'] = top_author['Author']\n",
    "top_author = top_author.sort_values('count',ascending=False)\n",
    "\n",
    "plt.figure(figsize=(12,10))\n",
    "plt.title('Top 30 Authors according to most books')\n",
    "sns.barplot(data = top_author.head(30), x = 'count', y = 'Author');"
   ]
  },
  {
   "cell_type": "markdown",
   "id": "1c4050fa",
   "metadata": {},
   "source": [
    "### Visualising top 30 publishers with most books"
   ]
  },
  {
   "cell_type": "markdown",
   "id": "f50c5aff",
   "metadata": {},
   "source": [
    "We count the number of books published by a publisher and plot top 30 of them"
   ]
  },
  {
   "cell_type": "code",
   "execution_count": 55,
   "id": "654a2341",
   "metadata": {},
   "outputs": [
    {
     "data": {
      "image/png": "[encoded data removed]",
      "text/plain": [
       "<Figure size 864x720 with 1 Axes>"
      ]
     },
     "metadata": {
      "needs_background": "light"
     },
     "output_type": "display_data"
    }
   ],
   "source": [
    "top_publisher = df['Publisher'].value_counts().reset_index()\n",
    "top_publisher.columns = ['Publisher', 'count']\n",
    "top_publisher['Publisher'] = top_publisher['Publisher']\n",
    "top_publisher = top_publisher.sort_values('count',ascending=False)\n",
    "\n",
    "plt.figure(figsize=(12,10))\n",
    "plt.title('Top 30 Publishers according to most books')\n",
    "sns.barplot(data = top_publisher.head(30), x = 'count', y = 'Publisher');"
   ]
  },
  {
   "cell_type": "markdown",
   "id": "f2668d34",
   "metadata": {},
   "source": [
    "### Visualising the age distribution of the users"
   ]
  },
  {
   "cell_type": "code",
   "execution_count": 56,
   "id": "8920e3b9",
   "metadata": {
    "scrolled": true
   },
   "outputs": [
    {
     "data": {
      "image/png": "[encoded data removed]",
      "text/plain": [
       "<Figure size 720x432 with 1 Axes>"
      ]
     },
     "metadata": {
      "needs_background": "light"
     },
     "output_type": "display_data"
    }
   ],
   "source": [
    "user_age = df.Age\n",
    "plt.figure(figsize=(10,6), tight_layout=True)\n",
    "plt.title('Number of users according to user age')\n",
    "sns.histplot(user_age, bins=25, linewidth = 2, color = 'cyan', edgecolor = 'black');"
   ]
  },
  {
   "cell_type": "code",
   "execution_count": 57,
   "id": "e3c14a51",
   "metadata": {},
   "outputs": [
    {
     "data": {
      "text/plain": [
       "51965"
      ]
     },
     "execution_count": 57,
     "metadata": {},
     "output_type": "execute_result"
    }
   ],
   "source": [
    "df[df['Age'] < 14].shape[0]"
   ]
  },
  {
   "cell_type": "code",
   "execution_count": 58,
   "id": "899d774d",
   "metadata": {},
   "outputs": [],
   "source": [
    "# Replacing any age more than 100 with 100 \n",
    "df['Age'] = df['Age'].clip(upper=100)"
   ]
  },
  {
   "cell_type": "code",
   "execution_count": 59,
   "id": "bd82d7c3",
   "metadata": {},
   "outputs": [],
   "source": [
    "bins = [-1, 0, 12, 19, 59, 100]\n",
    "labels = ['Unknown', 'Children', 'Teenagers', 'Adults', 'Seniors']\n",
    "df['Age Group'] = pd.cut(df['Age'], bins=bins, labels=labels, right=False, include_lowest=True)\n",
    "df['Age Group'] = np.where(df['Age'] >= 100, 'Seniors', df['Age Group'])"
   ]
  },
  {
   "cell_type": "code",
   "execution_count": 60,
   "id": "92d48ba2",
   "metadata": {},
   "outputs": [
    {
     "data": {
      "text/html": [
       "<div>\n",
       "<style scoped>\n",
       "    .dataframe tbody tr th:only-of-type {\n",
       "        vertical-align: middle;\n",
       "    }\n",
       "\n",
       "    .dataframe tbody tr th {\n",
       "        vertical-align: top;\n",
       "    }\n",
       "\n",
       "    .dataframe thead th {\n",
       "        text-align: right;\n",
       "    }\n",
       "</style>\n",
       "<table border=\"1\" class=\"dataframe\">\n",
       "  <thead>\n",
       "    <tr style=\"text-align: right;\">\n",
       "      <th></th>\n",
       "      <th>User-ID</th>\n",
       "      <th>Location</th>\n",
       "      <th>Age</th>\n",
       "      <th>ISBN</th>\n",
       "      <th>bookRating</th>\n",
       "      <th>bookTitle</th>\n",
       "      <th>bookAuthor</th>\n",
       "      <th>yearOfPublication</th>\n",
       "      <th>Publisher</th>\n",
       "      <th>Age Group</th>\n",
       "    </tr>\n",
       "  </thead>\n",
       "  <tbody>\n",
       "    <tr>\n",
       "      <th>0</th>\n",
       "      <td>2</td>\n",
       "      <td>stockton, california, usa</td>\n",
       "      <td>18.0</td>\n",
       "      <td>0195153448</td>\n",
       "      <td>0</td>\n",
       "      <td>Classical Mythology</td>\n",
       "      <td>Mark P. O. Morford</td>\n",
       "      <td>2002.0</td>\n",
       "      <td>Oxford University Press</td>\n",
       "      <td>Teenagers</td>\n",
       "    </tr>\n",
       "    <tr>\n",
       "      <th>1</th>\n",
       "      <td>8</td>\n",
       "      <td>timmins, ontario, canada</td>\n",
       "      <td>29.0</td>\n",
       "      <td>0002005018</td>\n",
       "      <td>5</td>\n",
       "      <td>Clara Callan</td>\n",
       "      <td>Richard Bruce Wright</td>\n",
       "      <td>2001.0</td>\n",
       "      <td>HarperFlamingo Canada</td>\n",
       "      <td>Adults</td>\n",
       "    </tr>\n",
       "    <tr>\n",
       "      <th>2</th>\n",
       "      <td>11400</td>\n",
       "      <td>ottawa, ontario, canada</td>\n",
       "      <td>49.0</td>\n",
       "      <td>0002005018</td>\n",
       "      <td>0</td>\n",
       "      <td>Clara Callan</td>\n",
       "      <td>Richard Bruce Wright</td>\n",
       "      <td>2001.0</td>\n",
       "      <td>HarperFlamingo Canada</td>\n",
       "      <td>Adults</td>\n",
       "    </tr>\n",
       "    <tr>\n",
       "      <th>3</th>\n",
       "      <td>11676</td>\n",
       "      <td>n/a, n/a, n/a</td>\n",
       "      <td>29.0</td>\n",
       "      <td>0002005018</td>\n",
       "      <td>8</td>\n",
       "      <td>Clara Callan</td>\n",
       "      <td>Richard Bruce Wright</td>\n",
       "      <td>2001.0</td>\n",
       "      <td>HarperFlamingo Canada</td>\n",
       "      <td>Adults</td>\n",
       "    </tr>\n",
       "    <tr>\n",
       "      <th>4</th>\n",
       "      <td>41385</td>\n",
       "      <td>sudbury, ontario, canada</td>\n",
       "      <td>29.0</td>\n",
       "      <td>0002005018</td>\n",
       "      <td>0</td>\n",
       "      <td>Clara Callan</td>\n",
       "      <td>Richard Bruce Wright</td>\n",
       "      <td>2001.0</td>\n",
       "      <td>HarperFlamingo Canada</td>\n",
       "      <td>Adults</td>\n",
       "    </tr>\n",
       "    <tr>\n",
       "      <th>...</th>\n",
       "      <td>...</td>\n",
       "      <td>...</td>\n",
       "      <td>...</td>\n",
       "      <td>...</td>\n",
       "      <td>...</td>\n",
       "      <td>...</td>\n",
       "      <td>...</td>\n",
       "      <td>...</td>\n",
       "      <td>...</td>\n",
       "      <td>...</td>\n",
       "    </tr>\n",
       "    <tr>\n",
       "      <th>1031131</th>\n",
       "      <td>278851</td>\n",
       "      <td>dallas, texas, usa</td>\n",
       "      <td>33.0</td>\n",
       "      <td>0743203763</td>\n",
       "      <td>0</td>\n",
       "      <td>As Hogan Said . . . : The 389 Best Things Anyo...</td>\n",
       "      <td>Randy Voorhees</td>\n",
       "      <td>2000.0</td>\n",
       "      <td>Simon &amp;amp; Schuster</td>\n",
       "      <td>Adults</td>\n",
       "    </tr>\n",
       "    <tr>\n",
       "      <th>1031132</th>\n",
       "      <td>278851</td>\n",
       "      <td>dallas, texas, usa</td>\n",
       "      <td>33.0</td>\n",
       "      <td>0767907566</td>\n",
       "      <td>5</td>\n",
       "      <td>All Elevations Unknown: An Adventure in the He...</td>\n",
       "      <td>Sam Lightner</td>\n",
       "      <td>2001.0</td>\n",
       "      <td>Broadway Books</td>\n",
       "      <td>Adults</td>\n",
       "    </tr>\n",
       "    <tr>\n",
       "      <th>1031133</th>\n",
       "      <td>278851</td>\n",
       "      <td>dallas, texas, usa</td>\n",
       "      <td>33.0</td>\n",
       "      <td>0884159221</td>\n",
       "      <td>7</td>\n",
       "      <td>Why stop?: A guide to Texas historical roadsid...</td>\n",
       "      <td>Claude Dooley</td>\n",
       "      <td>1985.0</td>\n",
       "      <td>Lone Star Books</td>\n",
       "      <td>Adults</td>\n",
       "    </tr>\n",
       "    <tr>\n",
       "      <th>1031134</th>\n",
       "      <td>278851</td>\n",
       "      <td>dallas, texas, usa</td>\n",
       "      <td>33.0</td>\n",
       "      <td>0912333022</td>\n",
       "      <td>7</td>\n",
       "      <td>The Are You Being Served? Stories: 'Camping In...</td>\n",
       "      <td>Jeremy Lloyd</td>\n",
       "      <td>1997.0</td>\n",
       "      <td>Kqed Books</td>\n",
       "      <td>Adults</td>\n",
       "    </tr>\n",
       "    <tr>\n",
       "      <th>1031135</th>\n",
       "      <td>278851</td>\n",
       "      <td>dallas, texas, usa</td>\n",
       "      <td>33.0</td>\n",
       "      <td>1569661057</td>\n",
       "      <td>10</td>\n",
       "      <td>Dallas Street Map Guide and Directory, 2000 Ed...</td>\n",
       "      <td>Mapsco</td>\n",
       "      <td>1999.0</td>\n",
       "      <td>American Map Corporation</td>\n",
       "      <td>Adults</td>\n",
       "    </tr>\n",
       "  </tbody>\n",
       "</table>\n",
       "<p>1031136 rows × 10 columns</p>\n",
       "</div>"
      ],
      "text/plain": [
       "         User-ID                   Location   Age        ISBN  bookRating  \\\n",
       "0              2  stockton, california, usa  18.0  0195153448           0   \n",
       "1              8   timmins, ontario, canada  29.0  0002005018           5   \n",
       "2          11400    ottawa, ontario, canada  49.0  0002005018           0   \n",
       "3          11676              n/a, n/a, n/a  29.0  0002005018           8   \n",
       "4          41385   sudbury, ontario, canada  29.0  0002005018           0   \n",
       "...          ...                        ...   ...         ...         ...   \n",
       "1031131   278851         dallas, texas, usa  33.0  0743203763           0   \n",
       "1031132   278851         dallas, texas, usa  33.0  0767907566           5   \n",
       "1031133   278851         dallas, texas, usa  33.0  0884159221           7   \n",
       "1031134   278851         dallas, texas, usa  33.0  0912333022           7   \n",
       "1031135   278851         dallas, texas, usa  33.0  1569661057          10   \n",
       "\n",
       "                                                 bookTitle  \\\n",
       "0                                      Classical Mythology   \n",
       "1                                             Clara Callan   \n",
       "2                                             Clara Callan   \n",
       "3                                             Clara Callan   \n",
       "4                                             Clara Callan   \n",
       "...                                                    ...   \n",
       "1031131  As Hogan Said . . . : The 389 Best Things Anyo...   \n",
       "1031132  All Elevations Unknown: An Adventure in the He...   \n",
       "1031133  Why stop?: A guide to Texas historical roadsid...   \n",
       "1031134  The Are You Being Served? Stories: 'Camping In...   \n",
       "1031135  Dallas Street Map Guide and Directory, 2000 Ed...   \n",
       "\n",
       "                   bookAuthor  yearOfPublication                 Publisher  \\\n",
       "0          Mark P. O. Morford             2002.0   Oxford University Press   \n",
       "1        Richard Bruce Wright             2001.0     HarperFlamingo Canada   \n",
       "2        Richard Bruce Wright             2001.0     HarperFlamingo Canada   \n",
       "3        Richard Bruce Wright             2001.0     HarperFlamingo Canada   \n",
       "4        Richard Bruce Wright             2001.0     HarperFlamingo Canada   \n",
       "...                       ...                ...                       ...   \n",
       "1031131        Randy Voorhees             2000.0      Simon &amp; Schuster   \n",
       "1031132          Sam Lightner             2001.0            Broadway Books   \n",
       "1031133         Claude Dooley             1985.0           Lone Star Books   \n",
       "1031134          Jeremy Lloyd             1997.0                Kqed Books   \n",
       "1031135                Mapsco             1999.0  American Map Corporation   \n",
       "\n",
       "         Age Group  \n",
       "0        Teenagers  \n",
       "1           Adults  \n",
       "2           Adults  \n",
       "3           Adults  \n",
       "4           Adults  \n",
       "...            ...  \n",
       "1031131     Adults  \n",
       "1031132     Adults  \n",
       "1031133     Adults  \n",
       "1031134     Adults  \n",
       "1031135     Adults  \n",
       "\n",
       "[1031136 rows x 10 columns]"
      ]
     },
     "execution_count": 60,
     "metadata": {},
     "output_type": "execute_result"
    }
   ],
   "source": [
    "df"
   ]
  },
  {
   "cell_type": "code",
   "execution_count": 61,
   "id": "063ff75d",
   "metadata": {},
   "outputs": [],
   "source": [
    "cols = list(df.columns)\n",
    "cols.remove('Age Group')\n",
    "cols.insert(3, 'Age Group')\n",
    "df = df.reindex(columns=cols)"
   ]
  },
  {
   "cell_type": "code",
   "execution_count": 62,
   "id": "ccd694ef",
   "metadata": {},
   "outputs": [
    {
     "data": {
      "text/html": [
       "<div>\n",
       "<style scoped>\n",
       "    .dataframe tbody tr th:only-of-type {\n",
       "        vertical-align: middle;\n",
       "    }\n",
       "\n",
       "    .dataframe tbody tr th {\n",
       "        vertical-align: top;\n",
       "    }\n",
       "\n",
       "    .dataframe thead th {\n",
       "        text-align: right;\n",
       "    }\n",
       "</style>\n",
       "<table border=\"1\" class=\"dataframe\">\n",
       "  <thead>\n",
       "    <tr style=\"text-align: right;\">\n",
       "      <th></th>\n",
       "      <th>User-ID</th>\n",
       "      <th>Location</th>\n",
       "      <th>Age</th>\n",
       "      <th>Age Group</th>\n",
       "      <th>ISBN</th>\n",
       "      <th>bookRating</th>\n",
       "      <th>bookTitle</th>\n",
       "      <th>bookAuthor</th>\n",
       "      <th>yearOfPublication</th>\n",
       "      <th>Publisher</th>\n",
       "    </tr>\n",
       "  </thead>\n",
       "  <tbody>\n",
       "    <tr>\n",
       "      <th>0</th>\n",
       "      <td>2</td>\n",
       "      <td>stockton, california, usa</td>\n",
       "      <td>18.0</td>\n",
       "      <td>Teenagers</td>\n",
       "      <td>0195153448</td>\n",
       "      <td>0</td>\n",
       "      <td>Classical Mythology</td>\n",
       "      <td>Mark P. O. Morford</td>\n",
       "      <td>2002.0</td>\n",
       "      <td>Oxford University Press</td>\n",
       "    </tr>\n",
       "    <tr>\n",
       "      <th>1</th>\n",
       "      <td>8</td>\n",
       "      <td>timmins, ontario, canada</td>\n",
       "      <td>29.0</td>\n",
       "      <td>Adults</td>\n",
       "      <td>0002005018</td>\n",
       "      <td>5</td>\n",
       "      <td>Clara Callan</td>\n",
       "      <td>Richard Bruce Wright</td>\n",
       "      <td>2001.0</td>\n",
       "      <td>HarperFlamingo Canada</td>\n",
       "    </tr>\n",
       "    <tr>\n",
       "      <th>2</th>\n",
       "      <td>11400</td>\n",
       "      <td>ottawa, ontario, canada</td>\n",
       "      <td>49.0</td>\n",
       "      <td>Adults</td>\n",
       "      <td>0002005018</td>\n",
       "      <td>0</td>\n",
       "      <td>Clara Callan</td>\n",
       "      <td>Richard Bruce Wright</td>\n",
       "      <td>2001.0</td>\n",
       "      <td>HarperFlamingo Canada</td>\n",
       "    </tr>\n",
       "    <tr>\n",
       "      <th>3</th>\n",
       "      <td>11676</td>\n",
       "      <td>n/a, n/a, n/a</td>\n",
       "      <td>29.0</td>\n",
       "      <td>Adults</td>\n",
       "      <td>0002005018</td>\n",
       "      <td>8</td>\n",
       "      <td>Clara Callan</td>\n",
       "      <td>Richard Bruce Wright</td>\n",
       "      <td>2001.0</td>\n",
       "      <td>HarperFlamingo Canada</td>\n",
       "    </tr>\n",
       "    <tr>\n",
       "      <th>4</th>\n",
       "      <td>41385</td>\n",
       "      <td>sudbury, ontario, canada</td>\n",
       "      <td>29.0</td>\n",
       "      <td>Adults</td>\n",
       "      <td>0002005018</td>\n",
       "      <td>0</td>\n",
       "      <td>Clara Callan</td>\n",
       "      <td>Richard Bruce Wright</td>\n",
       "      <td>2001.0</td>\n",
       "      <td>HarperFlamingo Canada</td>\n",
       "    </tr>\n",
       "    <tr>\n",
       "      <th>...</th>\n",
       "      <td>...</td>\n",
       "      <td>...</td>\n",
       "      <td>...</td>\n",
       "      <td>...</td>\n",
       "      <td>...</td>\n",
       "      <td>...</td>\n",
       "      <td>...</td>\n",
       "      <td>...</td>\n",
       "      <td>...</td>\n",
       "      <td>...</td>\n",
       "    </tr>\n",
       "    <tr>\n",
       "      <th>1031131</th>\n",
       "      <td>278851</td>\n",
       "      <td>dallas, texas, usa</td>\n",
       "      <td>33.0</td>\n",
       "      <td>Adults</td>\n",
       "      <td>0743203763</td>\n",
       "      <td>0</td>\n",
       "      <td>As Hogan Said . . . : The 389 Best Things Anyo...</td>\n",
       "      <td>Randy Voorhees</td>\n",
       "      <td>2000.0</td>\n",
       "      <td>Simon &amp;amp; Schuster</td>\n",
       "    </tr>\n",
       "    <tr>\n",
       "      <th>1031132</th>\n",
       "      <td>278851</td>\n",
       "      <td>dallas, texas, usa</td>\n",
       "      <td>33.0</td>\n",
       "      <td>Adults</td>\n",
       "      <td>0767907566</td>\n",
       "      <td>5</td>\n",
       "      <td>All Elevations Unknown: An Adventure in the He...</td>\n",
       "      <td>Sam Lightner</td>\n",
       "      <td>2001.0</td>\n",
       "      <td>Broadway Books</td>\n",
       "    </tr>\n",
       "    <tr>\n",
       "      <th>1031133</th>\n",
       "      <td>278851</td>\n",
       "      <td>dallas, texas, usa</td>\n",
       "      <td>33.0</td>\n",
       "      <td>Adults</td>\n",
       "      <td>0884159221</td>\n",
       "      <td>7</td>\n",
       "      <td>Why stop?: A guide to Texas historical roadsid...</td>\n",
       "      <td>Claude Dooley</td>\n",
       "      <td>1985.0</td>\n",
       "      <td>Lone Star Books</td>\n",
       "    </tr>\n",
       "    <tr>\n",
       "      <th>1031134</th>\n",
       "      <td>278851</td>\n",
       "      <td>dallas, texas, usa</td>\n",
       "      <td>33.0</td>\n",
       "      <td>Adults</td>\n",
       "      <td>0912333022</td>\n",
       "      <td>7</td>\n",
       "      <td>The Are You Being Served? Stories: 'Camping In...</td>\n",
       "      <td>Jeremy Lloyd</td>\n",
       "      <td>1997.0</td>\n",
       "      <td>Kqed Books</td>\n",
       "    </tr>\n",
       "    <tr>\n",
       "      <th>1031135</th>\n",
       "      <td>278851</td>\n",
       "      <td>dallas, texas, usa</td>\n",
       "      <td>33.0</td>\n",
       "      <td>Adults</td>\n",
       "      <td>1569661057</td>\n",
       "      <td>10</td>\n",
       "      <td>Dallas Street Map Guide and Directory, 2000 Ed...</td>\n",
       "      <td>Mapsco</td>\n",
       "      <td>1999.0</td>\n",
       "      <td>American Map Corporation</td>\n",
       "    </tr>\n",
       "  </tbody>\n",
       "</table>\n",
       "<p>1031136 rows × 10 columns</p>\n",
       "</div>"
      ],
      "text/plain": [
       "         User-ID                   Location   Age  Age Group        ISBN  \\\n",
       "0              2  stockton, california, usa  18.0  Teenagers  0195153448   \n",
       "1              8   timmins, ontario, canada  29.0     Adults  0002005018   \n",
       "2          11400    ottawa, ontario, canada  49.0     Adults  0002005018   \n",
       "3          11676              n/a, n/a, n/a  29.0     Adults  0002005018   \n",
       "4          41385   sudbury, ontario, canada  29.0     Adults  0002005018   \n",
       "...          ...                        ...   ...        ...         ...   \n",
       "1031131   278851         dallas, texas, usa  33.0     Adults  0743203763   \n",
       "1031132   278851         dallas, texas, usa  33.0     Adults  0767907566   \n",
       "1031133   278851         dallas, texas, usa  33.0     Adults  0884159221   \n",
       "1031134   278851         dallas, texas, usa  33.0     Adults  0912333022   \n",
       "1031135   278851         dallas, texas, usa  33.0     Adults  1569661057   \n",
       "\n",
       "         bookRating                                          bookTitle  \\\n",
       "0                 0                                Classical Mythology   \n",
       "1                 5                                       Clara Callan   \n",
       "2                 0                                       Clara Callan   \n",
       "3                 8                                       Clara Callan   \n",
       "4                 0                                       Clara Callan   \n",
       "...             ...                                                ...   \n",
       "1031131           0  As Hogan Said . . . : The 389 Best Things Anyo...   \n",
       "1031132           5  All Elevations Unknown: An Adventure in the He...   \n",
       "1031133           7  Why stop?: A guide to Texas historical roadsid...   \n",
       "1031134           7  The Are You Being Served? Stories: 'Camping In...   \n",
       "1031135          10  Dallas Street Map Guide and Directory, 2000 Ed...   \n",
       "\n",
       "                   bookAuthor  yearOfPublication                 Publisher  \n",
       "0          Mark P. O. Morford             2002.0   Oxford University Press  \n",
       "1        Richard Bruce Wright             2001.0     HarperFlamingo Canada  \n",
       "2        Richard Bruce Wright             2001.0     HarperFlamingo Canada  \n",
       "3        Richard Bruce Wright             2001.0     HarperFlamingo Canada  \n",
       "4        Richard Bruce Wright             2001.0     HarperFlamingo Canada  \n",
       "...                       ...                ...                       ...  \n",
       "1031131        Randy Voorhees             2000.0      Simon &amp; Schuster  \n",
       "1031132          Sam Lightner             2001.0            Broadway Books  \n",
       "1031133         Claude Dooley             1985.0           Lone Star Books  \n",
       "1031134          Jeremy Lloyd             1997.0                Kqed Books  \n",
       "1031135                Mapsco             1999.0  American Map Corporation  \n",
       "\n",
       "[1031136 rows x 10 columns]"
      ]
     },
     "execution_count": 62,
     "metadata": {},
     "output_type": "execute_result"
    }
   ],
   "source": [
    "df"
   ]
  },
  {
   "cell_type": "code",
   "execution_count": 63,
   "id": "a1bfcbd9",
   "metadata": {},
   "outputs": [],
   "source": [
    "df.rename(columns={'Age Group': 'ageGroup'},inplace=True)"
   ]
  },
  {
   "cell_type": "code",
   "execution_count": 64,
   "id": "6902acd8",
   "metadata": {},
   "outputs": [
    {
     "data": {
      "text/html": [
       "<div>\n",
       "<style scoped>\n",
       "    .dataframe tbody tr th:only-of-type {\n",
       "        vertical-align: middle;\n",
       "    }\n",
       "\n",
       "    .dataframe tbody tr th {\n",
       "        vertical-align: top;\n",
       "    }\n",
       "\n",
       "    .dataframe thead th {\n",
       "        text-align: right;\n",
       "    }\n",
       "</style>\n",
       "<table border=\"1\" class=\"dataframe\">\n",
       "  <thead>\n",
       "    <tr style=\"text-align: right;\">\n",
       "      <th></th>\n",
       "      <th>User-ID</th>\n",
       "      <th>Location</th>\n",
       "      <th>Age</th>\n",
       "      <th>ageGroup</th>\n",
       "      <th>ISBN</th>\n",
       "      <th>bookRating</th>\n",
       "      <th>bookTitle</th>\n",
       "      <th>bookAuthor</th>\n",
       "      <th>yearOfPublication</th>\n",
       "      <th>Publisher</th>\n",
       "    </tr>\n",
       "  </thead>\n",
       "  <tbody>\n",
       "  </tbody>\n",
       "</table>\n",
       "</div>"
      ],
      "text/plain": [
       "Empty DataFrame\n",
       "Columns: [User-ID, Location, Age, ageGroup, ISBN, bookRating, bookTitle, bookAuthor, yearOfPublication, Publisher]\n",
       "Index: []"
      ]
     },
     "execution_count": 64,
     "metadata": {},
     "output_type": "execute_result"
    }
   ],
   "source": [
    "df[df.isnull().any(axis=1)]"
   ]
  },
  {
   "cell_type": "code",
   "execution_count": 65,
   "id": "b5f59d45",
   "metadata": {},
   "outputs": [
    {
     "name": "stderr",
     "output_type": "stream",
     "text": [
      "C:\\Users\\Hxze.-\\anaconda3\\lib\\site-packages\\seaborn\\_decorators.py:36: FutureWarning: Pass the following variable as a keyword arg: x. From version 0.12, the only valid positional argument will be `data`, and passing other arguments without an explicit keyword will result in an error or misinterpretation.\n",
      "  warnings.warn(\n"
     ]
    },
    {
     "data": {
      "image/png": "[encoded data removed]",
      "text/plain": [
       "<Figure size 720x432 with 1 Axes>"
      ]
     },
     "metadata": {
      "needs_background": "light"
     },
     "output_type": "display_data"
    }
   ],
   "source": [
    "user_age = df['ageGroup']\n",
    "plt.figure(figsize=(10,6), tight_layout=True)\n",
    "plt.title('Number of users according to user age', fontweight = 'bold')\n",
    "sns.countplot(user_age, color = 'green', edgecolor = 'black');"
   ]
  },
  {
   "cell_type": "code",
   "execution_count": 66,
   "id": "065bea95",
   "metadata": {},
   "outputs": [
    {
     "data": {
      "text/plain": [
       "<AxesSubplot:xlabel='Age Group', ylabel='Number of books read'>"
      ]
     },
     "execution_count": 66,
     "metadata": {},
     "output_type": "execute_result"
    },
    {
     "data": {
      "image/png": "[encoded data removed]",
      "text/plain": [
       "<Figure size 432x288 with 1 Axes>"
      ]
     },
     "metadata": {
      "needs_background": "light"
     },
     "output_type": "display_data"
    }
   ],
   "source": [
    "# create the graph for most books read\n",
    "books_read = df.groupby(\"ageGroup\")[\"bookTitle\"].count()\n",
    "books_read.plot(kind='bar', xlabel='Age Group', ylabel='Number of books read')"
   ]
  },
  {
   "cell_type": "code",
   "execution_count": 67,
   "id": "f323c671",
   "metadata": {},
   "outputs": [
    {
     "data": {
      "image/png": "[encoded data removed]",
      "text/plain": [
       "<Figure size 432x288 with 1 Axes>"
      ]
     },
     "metadata": {
      "needs_background": "light"
     },
     "output_type": "display_data"
    },
    {
     "data": {
      "image/png": "[encoded data removed]",
      "text/plain": [
       "<Figure size 432x288 with 1 Axes>"
      ]
     },
     "metadata": {
      "needs_background": "light"
     },
     "output_type": "display_data"
    },
    {
     "data": {
      "image/png": "[encoded data removed]",
      "text/plain": [
       "<Figure size 432x288 with 1 Axes>"
      ]
     },
     "metadata": {
      "needs_background": "light"
     },
     "output_type": "display_data"
    },
    {
     "data": {
      "image/png": "[encoded data removed]",
      "text/plain": [
       "<Figure size 432x288 with 1 Axes>"
      ]
     },
     "metadata": {
      "needs_background": "light"
     },
     "output_type": "display_data"
    }
   ],
   "source": [
    "# group the data by ageGroup and bookTitle\n",
    "books_read = df.groupby([\"ageGroup\", \"bookTitle\"])[\"bookTitle\"].count()\n",
    "\n",
    "# get the unique age groups\n",
    "age_groups = df[\"ageGroup\"].unique()\n",
    "\n",
    "# create a bar chart for each age group\n",
    "for age in age_groups:\n",
    "    group_size = books_read.loc[age].size\n",
    "    if group_size < 5:\n",
    "        books_read.loc[age].sort_values(ascending=False).plot(kind='barh',xlabel='Books', ylabel='Number of books read')\n",
    "    else:\n",
    "        top_five_books = books_read.loc[age].nlargest(5)\n",
    "        top_five_books.sort_values(ascending=False).plot(kind='barh',xlabel='Books', ylabel='Number of books read',color=['red', 'black', 'green', 'blue', 'purple'])\n",
    "    plt.title(age)\n",
    "    plt.show()"
   ]
  },
  {
   "cell_type": "code",
   "execution_count": null,
   "id": "97d74f40",
   "metadata": {},
   "outputs": [],
   "source": [
    "# Teenagers Group has given most Ratings\n",
    "df.groupby([\"bookRating\"])[\"ageGroup\"].mean()"
   ]
  },
  {
   "cell_type": "code",
   "execution_count": null,
   "id": "8bb655cb",
   "metadata": {},
   "outputs": [],
   "source": [
    "# group the data by ageGroup and bookRatings\n",
    "\n",
    "books_read = df.groupby([\"ageGroup\", \"bookRating\"])[\"bookRating\"].count()\n",
    "\n",
    "# get the unique age groups\n",
    "age_groups = df[\"ageGroup\"].unique()\n",
    "\n",
    "# create a bar chart for each age group\n",
    "for age in age_groups:\n",
    "    group_size = books_read.loc[age].size\n",
    "    if group_size < 5:\n",
    "        books_read.loc[age].sort_values(ascending=False).plot(kind='bar',xlabel='Ratings', ylabel='Number of Ratings',color=(0.1, 0.1, 0.1, 0.1),  edgecolor='red')\n",
    "    else:\n",
    "        top_five_books = books_read.loc[age].nsmallest(10)\n",
    "        top_five_books.sort_values(ascending=False).plot(kind='bar',xlabel='Ratings', ylabel='Number of Ratings',color=(0.1, 0.1, 0.1, 0.1),  edgecolor='red')\n",
    "    plt.title(age)\n",
    "    plt.show()"
   ]
  },
  {
   "cell_type": "code",
   "execution_count": null,
   "id": "f04b673f",
   "metadata": {},
   "outputs": [],
   "source": [
    "# group the data by ageGroup and bookAuthor\n",
    "books_read = df.groupby([\"ageGroup\", \"bookAuthor\"])[\"bookAuthor\"].count()\n",
    "\n",
    "# get the unique age groups\n",
    "age_groups = df[\"ageGroup\"].unique()\n",
    "\n",
    "# create a bar chart for each age group\n",
    "for age in age_groups:\n",
    "    group_size = books_read.loc[age].size\n",
    "    if group_size < 5:\n",
    "        books_read.loc[age].sort_values(ascending=False).plot(kind='bar',xlabel='Books', ylabel='Number of books read')\n",
    "    else:\n",
    "        top_five_books = books_read.loc[age].nlargest(3)\n",
    "        top_five_books.sort_values(ascending=False).plot(kind='bar',xlabel='Books', ylabel='Number of books read', color = 'green')\n",
    "    plt.title(age)\n",
    "    plt.show()"
   ]
  },
  {
   "cell_type": "code",
   "execution_count": null,
   "id": "4012f124",
   "metadata": {},
   "outputs": [],
   "source": [
    "df"
   ]
  },
  {
   "cell_type": "code",
   "execution_count": null,
   "id": "5eade3c1",
   "metadata": {},
   "outputs": [],
   "source": [
    "df[(df[\"bookAuthor\"] == \"Nora Roberts\") & (df[\"ageGroup\"] == \"Seniors\")][\"bookTitle\"].value_counts()"
   ]
  },
  {
   "cell_type": "code",
   "execution_count": null,
   "id": "fafec967",
   "metadata": {},
   "outputs": [],
   "source": [
    "df[(df[\"bookAuthor\"] == \"Ann M. Martin\") & (df[\"ageGroup\"] == \"Children\")][\"bookTitle\"].value_counts()"
   ]
  },
  {
   "cell_type": "code",
   "execution_count": null,
   "id": "26cca7c2",
   "metadata": {},
   "outputs": [],
   "source": [
    "df[(df[\"bookAuthor\"] == \"Stephen King\") & (df[\"ageGroup\"] == \"Seniors\")][\"bookTitle\"].value_counts()"
   ]
  },
  {
   "cell_type": "code",
   "execution_count": null,
   "id": "e77c7030",
   "metadata": {},
   "outputs": [],
   "source": [
    "df[(df[\"bookAuthor\"] == \"James Patterson\") & (df[\"ageGroup\"] == \"Seniors\")][\"bookTitle\"].value_counts().head(1)"
   ]
  },
  {
   "cell_type": "code",
   "execution_count": null,
   "id": "6b19da73",
   "metadata": {},
   "outputs": [],
   "source": [
    "df[(df[\"bookAuthor\"] == \"Stephen King\") & (df[\"ageGroup\"] == \"Teenagers\")][\"bookTitle\"].value_counts().head(1)"
   ]
  },
  {
   "cell_type": "code",
   "execution_count": null,
   "id": "d506bd5b",
   "metadata": {},
   "outputs": [],
   "source": [
    "df[(df[\"bookAuthor\"] == \"Ann M. Martin\") & (df[\"ageGroup\"] == \"Teenagers\")][\"bookTitle\"].value_counts().head(1)"
   ]
  },
  {
   "cell_type": "code",
   "execution_count": null,
   "id": "99ba3994",
   "metadata": {},
   "outputs": [],
   "source": [
    "df[(df[\"bookAuthor\"] == \"R. L. Stine\") & (df[\"ageGroup\"] == \"Teenagers\")][\"bookTitle\"].value_counts().head(1)"
   ]
  },
  {
   "cell_type": "code",
   "execution_count": null,
   "id": "b14ed148",
   "metadata": {},
   "outputs": [],
   "source": [
    "df[(df[\"bookAuthor\"] == \"Nora Roberts\") & (df[\"ageGroup\"] == \"Teenagers\")][\"bookTitle\"].value_counts().head(1)"
   ]
  },
  {
   "cell_type": "code",
   "execution_count": null,
   "id": "9dc5ebc1",
   "metadata": {},
   "outputs": [],
   "source": [
    "df[(df[\"bookAuthor\"] == \"Stephen King\") & (df[\"ageGroup\"] == \"Adults\")][\"bookTitle\"].value_counts().head(1)"
   ]
  },
  {
   "cell_type": "code",
   "execution_count": null,
   "id": "b8c2359a",
   "metadata": {},
   "outputs": [],
   "source": [
    "df[(df[\"bookAuthor\"] == \"John Grisham\") & (df[\"ageGroup\"] == \"Adults\")][\"bookTitle\"].value_counts().head(1)"
   ]
  },
  {
   "cell_type": "code",
   "execution_count": null,
   "id": "8e42db89",
   "metadata": {},
   "outputs": [],
   "source": [
    "df[(df[\"bookRating\"] == 5) & (df[\"ageGroup\"] == \"Children\")][\"bookTitle\"].value_counts().head(10)"
   ]
  },
  {
   "cell_type": "code",
   "execution_count": null,
   "id": "79b16592",
   "metadata": {},
   "outputs": [],
   "source": [
    "df[df[\"bookAuthor\"] == \"Barbara Cartland\"]"
   ]
  },
  {
   "cell_type": "code",
   "execution_count": null,
   "id": "e09029bb",
   "metadata": {},
   "outputs": [],
   "source": [
    "cou = []\n",
    "for i in df[\"Location\"]:\n",
    "    txt = i.rfind(\",\")\n",
    "    word = i[(txt+2):]\n",
    "    cou.append(word.upper())\n",
    "cou"
   ]
  },
  {
   "cell_type": "code",
   "execution_count": null,
   "id": "b246a7ee",
   "metadata": {},
   "outputs": [],
   "source": [
    "df[\"Country_name\"] = cou"
   ]
  },
  {
   "cell_type": "code",
   "execution_count": null,
   "id": "aca4ef0e",
   "metadata": {},
   "outputs": [],
   "source": [
    "df"
   ]
  },
  {
   "cell_type": "code",
   "execution_count": null,
   "id": "73d77237",
   "metadata": {},
   "outputs": [],
   "source": [
    "df[(df[\"Country_name\"]==\"USA\")][\"bookTitle\"].value_counts()"
   ]
  },
  {
   "cell_type": "code",
   "execution_count": null,
   "id": "e7e9b7d6",
   "metadata": {},
   "outputs": [],
   "source": [
    "df[(df[\"Country_name\"]==\"CANADA\")][\"bookTitle\"].value_counts()"
   ]
  },
  {
   "cell_type": "code",
   "execution_count": null,
   "id": "78ff2823",
   "metadata": {},
   "outputs": [],
   "source": [
    "df[(df[\"Country_name\"]==\"UNITED KINGDOM\")][\"bookTitle\"].value_counts()"
   ]
  },
  {
   "cell_type": "code",
   "execution_count": null,
   "id": "e4d56b9b",
   "metadata": {},
   "outputs": [],
   "source": [
    "df[(df[\"Country_name\"]==\"GERMANY\")][\"bookTitle\"].value_counts()"
   ]
  },
  {
   "cell_type": "code",
   "execution_count": null,
   "id": "7f66427b",
   "metadata": {},
   "outputs": [],
   "source": [
    "df[(df[\"Country_name\"]==\"AUSTRALIA\")][\"bookTitle\"].value_counts()"
   ]
  },
  {
   "cell_type": "code",
   "execution_count": null,
   "id": "557be86d",
   "metadata": {},
   "outputs": [],
   "source": [
    "# group the data by ageGroup and bookTitle\n",
    "books_read = df.groupby([\"ageGroup\",\"bookRating\", \"bookTitle\"])[\"bookTitle\"].count()\n",
    "\n",
    "# get the unique age groups\n",
    "age_groups = df[\"ageGroup\"].unique()\n",
    "\n",
    "# create a bar chart for each age group\n",
    "for age in age_groups:\n",
    "    group_size = books_read.loc[age].size\n",
    "    if group_size < 5:\n",
    "        books_read.loc[age].sort_values(ascending=False).plot(kind='barh',xlabel='Books', ylabel='Number of books read')\n",
    "    else:\n",
    "        top_five_books = books_read.loc[age].nlargest(5)\n",
    "        top_five_books.sort_values(ascending=False).plot(kind='barh',xlabel='Books', ylabel='Number of books read',color=['red', 'black', 'green', 'blue', 'purple'])\n",
    "    plt.title(age)\n",
    "    plt.show()"
   ]
  },
  {
   "cell_type": "code",
   "execution_count": null,
   "id": "f48a63f2",
   "metadata": {},
   "outputs": [],
   "source": []
  },
  {
   "cell_type": "code",
   "execution_count": null,
   "id": "d8e93d24",
   "metadata": {},
   "outputs": [],
   "source": []
  },
  {
   "cell_type": "code",
   "execution_count": null,
   "id": "69e5f061",
   "metadata": {},
   "outputs": [],
   "source": []
  },
  {
   "cell_type": "markdown",
   "id": "822521cc",
   "metadata": {},
   "source": [
    "# Dropping the 0 entries in book ratings"
   ]
  },
  {
   "cell_type": "code",
   "execution_count": null,
   "id": "9da65661",
   "metadata": {},
   "outputs": [],
   "source": [
    "df1 = df.copy()"
   ]
  },
  {
   "cell_type": "code",
   "execution_count": null,
   "id": "4790a4f7",
   "metadata": {},
   "outputs": [],
   "source": [
    "df1"
   ]
  },
  {
   "cell_type": "code",
   "execution_count": null,
   "id": "d69f5a4c",
   "metadata": {},
   "outputs": [],
   "source": [
    "df1[\"bookRating\"] = df1[\"bookRating\"].replace(0, np.nan)"
   ]
  },
  {
   "cell_type": "code",
   "execution_count": null,
   "id": "6e69d282",
   "metadata": {},
   "outputs": [],
   "source": [
    "df1.dropna()"
   ]
  },
  {
   "cell_type": "code",
   "execution_count": null,
   "id": "5a993667",
   "metadata": {},
   "outputs": [],
   "source": [
    "# group the data by ageGroup and bookTitle\n",
    "books_read = df1.groupby([\"ageGroup\",\"bookRating\", \"bookTitle\"])[\"bookTitle\"].count()\n",
    "\n",
    "# get the unique age groups\n",
    "age_groups = df1[\"ageGroup\"].unique()\n",
    "\n",
    "# create a bar chart for each age group\n",
    "for age in age_groups:\n",
    "    group_size = books_read.loc[age].size\n",
    "    if group_size < 5:\n",
    "        books_read.loc[age].sort_values(ascending=False).plot(kind='barh',xlabel='Books', ylabel='Number of books read')\n",
    "    else:\n",
    "        top_five_books = books_read.loc[age].nlargest(3)\n",
    "        top_five_books.sort_values(ascending=False).plot(kind='barh',xlabel='Books', ylabel='Number of books read',color=['lightcoral', 'mediumseagreen', 'skyblue'])\n",
    "    plt.title(age)\n",
    "    plt.show()"
   ]
  },
  {
   "cell_type": "code",
   "execution_count": null,
   "id": "b64147b3",
   "metadata": {},
   "outputs": [],
   "source": [
    "df1"
   ]
  },
  {
   "cell_type": "code",
   "execution_count": null,
   "id": "da69a052",
   "metadata": {},
   "outputs": [],
   "source": [
    "df"
   ]
  },
  {
   "cell_type": "code",
   "execution_count": null,
   "id": "c098a5a7",
   "metadata": {},
   "outputs": [],
   "source": [
    "df1"
   ]
  },
  {
   "cell_type": "code",
   "execution_count": null,
   "id": "ebb82cd1",
   "metadata": {},
   "outputs": [],
   "source": [
    "# Teenagers Group has given most Ratings\n",
    "df1.groupby([\"bookRating\"])[\"ageGroup\"].max()"
   ]
  },
  {
   "cell_type": "code",
   "execution_count": null,
   "id": "fd7698c0",
   "metadata": {},
   "outputs": [],
   "source": [
    "# Adults Group has given minimum Ratings\n",
    "df1.groupby([\"bookRating\"])[\"ageGroup\"].min()"
   ]
  },
  {
   "cell_type": "code",
   "execution_count": null,
   "id": "5a6a940a",
   "metadata": {},
   "outputs": [],
   "source": [
    "print(df.shape)\n",
    "print(df1.shape)"
   ]
  }
 ],
 "metadata": {
  "kernelspec": {
   "display_name": "Python 3 (ipykernel)",
   "language": "python",
   "name": "python3"
  },
  "language_info": {
   "codemirror_mode": {
    "name": "ipython",
    "version": 3
   },
   "file_extension": ".py",
   "mimetype": "text/x-python",
   "name": "python",
   "nbconvert_exporter": "python",
   "pygments_lexer": "ipython3",
   "version": "3.9.12"
  },
  "toc": {
   "base_numbering": 1,
   "nav_menu": {},
   "number_sections": true,
   "sideBar": true,
   "skip_h1_title": false,
   "title_cell": "Table of Contents",
   "title_sidebar": "Contents",
   "toc_cell": false,
   "toc_position": {},
   "toc_section_display": true,
   "toc_window_display": false
  }
 },
 "nbformat": 4,
 "nbformat_minor": 5
}
